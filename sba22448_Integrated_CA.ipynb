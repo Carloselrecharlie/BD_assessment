{
 "cells": [
  {
   "cell_type": "code",
   "execution_count": 1,
   "id": "295b67e0",
   "metadata": {},
   "outputs": [],
   "source": [
    "from datetime import datetime\n",
    "import tarfile\n",
    "import json\n",
    "import bz2\n",
    "import re\n",
    "import pandas as pd\n",
    "import numpy as np\n",
    "import matplotlib.pyplot as plt\n",
    "import seaborn as sns\n",
    "%matplotlib inline"
   ]
  },
  {
   "cell_type": "code",
   "execution_count": 2,
   "id": "0f616b48",
   "metadata": {},
   "outputs": [],
   "source": [
    "start_time = datetime.now()"
   ]
  },
  {
   "cell_type": "code",
   "execution_count": 3,
   "id": "15f786fa",
   "metadata": {},
   "outputs": [],
   "source": [
    "from pyspark.sql.types import *\n",
    "from pyspark.sql.functions import udf, desc, min, max, to_timestamp, to_date, date_format, col, expr, hour, year, month, dayofweek, count\n",
    "from pyspark.sql import functions as F #module that includes a variety of functions like to extract features"
   ]
  },
  {
   "cell_type": "code",
   "execution_count": 4,
   "id": "10085277",
   "metadata": {},
   "outputs": [
    {
     "data": {
      "text/html": [
       "\n",
       "        <div>\n",
       "            <p><b>SparkContext</b></p>\n",
       "\n",
       "            <p><a href=\"http://cacu-VirtualBox.mshome.net:4040\">Spark UI</a></p>\n",
       "\n",
       "            <dl>\n",
       "              <dt>Version</dt>\n",
       "                <dd><code>v3.2.3</code></dd>\n",
       "              <dt>Master</dt>\n",
       "                <dd><code>local[*]</code></dd>\n",
       "              <dt>AppName</dt>\n",
       "                <dd><code>PySparkShell</code></dd>\n",
       "            </dl>\n",
       "        </div>\n",
       "        "
      ],
      "text/plain": [
       "<SparkContext master=local[*] appName=PySparkShell>"
      ]
     },
     "execution_count": 4,
     "metadata": {},
     "output_type": "execute_result"
    }
   ],
   "source": [
    "sc"
   ]
  },
  {
   "cell_type": "code",
   "execution_count": 5,
   "id": "f84622aa",
   "metadata": {
    "scrolled": true
   },
   "outputs": [
    {
     "data": {
      "text/html": [
       "<div>\n",
       "<style scoped>\n",
       "    .dataframe tbody tr th:only-of-type {\n",
       "        vertical-align: middle;\n",
       "    }\n",
       "\n",
       "    .dataframe tbody tr th {\n",
       "        vertical-align: top;\n",
       "    }\n",
       "\n",
       "    .dataframe thead th {\n",
       "        text-align: right;\n",
       "    }\n",
       "</style>\n",
       "<table border=\"1\" class=\"dataframe\">\n",
       "  <thead>\n",
       "    <tr style=\"text-align: right;\">\n",
       "      <th></th>\n",
       "      <th>index</th>\n",
       "      <th>id</th>\n",
       "      <th>date</th>\n",
       "      <th>flag</th>\n",
       "      <th>user</th>\n",
       "      <th>text</th>\n",
       "    </tr>\n",
       "  </thead>\n",
       "  <tbody>\n",
       "    <tr>\n",
       "      <th>0</th>\n",
       "      <td>0</td>\n",
       "      <td>1467810369</td>\n",
       "      <td>Mon Apr 06 22:19:45 PDT 2009</td>\n",
       "      <td>NO_QUERY</td>\n",
       "      <td>_TheSpecialOne_</td>\n",
       "      <td>@switchfoot http://twitpic.com/2y1zl - Awww, t...</td>\n",
       "    </tr>\n",
       "    <tr>\n",
       "      <th>1</th>\n",
       "      <td>1</td>\n",
       "      <td>1467810672</td>\n",
       "      <td>Mon Apr 06 22:19:49 PDT 2009</td>\n",
       "      <td>NO_QUERY</td>\n",
       "      <td>scotthamilton</td>\n",
       "      <td>is upset that he can't update his Facebook by ...</td>\n",
       "    </tr>\n",
       "    <tr>\n",
       "      <th>2</th>\n",
       "      <td>2</td>\n",
       "      <td>1467810917</td>\n",
       "      <td>Mon Apr 06 22:19:53 PDT 2009</td>\n",
       "      <td>NO_QUERY</td>\n",
       "      <td>mattycus</td>\n",
       "      <td>@Kenichan I dived many times for the ball. Man...</td>\n",
       "    </tr>\n",
       "    <tr>\n",
       "      <th>3</th>\n",
       "      <td>3</td>\n",
       "      <td>1467811184</td>\n",
       "      <td>Mon Apr 06 22:19:57 PDT 2009</td>\n",
       "      <td>NO_QUERY</td>\n",
       "      <td>ElleCTF</td>\n",
       "      <td>my whole body feels itchy and like its on fire</td>\n",
       "    </tr>\n",
       "    <tr>\n",
       "      <th>4</th>\n",
       "      <td>4</td>\n",
       "      <td>1467811193</td>\n",
       "      <td>Mon Apr 06 22:19:57 PDT 2009</td>\n",
       "      <td>NO_QUERY</td>\n",
       "      <td>Karoli</td>\n",
       "      <td>@nationwideclass no, it's not behaving at all....</td>\n",
       "    </tr>\n",
       "    <tr>\n",
       "      <th>...</th>\n",
       "      <td>...</td>\n",
       "      <td>...</td>\n",
       "      <td>...</td>\n",
       "      <td>...</td>\n",
       "      <td>...</td>\n",
       "      <td>...</td>\n",
       "    </tr>\n",
       "    <tr>\n",
       "      <th>1599995</th>\n",
       "      <td>1599995</td>\n",
       "      <td>2193601966</td>\n",
       "      <td>Tue Jun 16 08:40:49 PDT 2009</td>\n",
       "      <td>NO_QUERY</td>\n",
       "      <td>AmandaMarie1028</td>\n",
       "      <td>Just woke up. Having no school is the best fee...</td>\n",
       "    </tr>\n",
       "    <tr>\n",
       "      <th>1599996</th>\n",
       "      <td>1599996</td>\n",
       "      <td>2193601969</td>\n",
       "      <td>Tue Jun 16 08:40:49 PDT 2009</td>\n",
       "      <td>NO_QUERY</td>\n",
       "      <td>TheWDBoards</td>\n",
       "      <td>TheWDB.com - Very cool to hear old Walt interv...</td>\n",
       "    </tr>\n",
       "    <tr>\n",
       "      <th>1599997</th>\n",
       "      <td>1599997</td>\n",
       "      <td>2193601991</td>\n",
       "      <td>Tue Jun 16 08:40:49 PDT 2009</td>\n",
       "      <td>NO_QUERY</td>\n",
       "      <td>bpbabe</td>\n",
       "      <td>Are you ready for your MoJo Makeover? Ask me f...</td>\n",
       "    </tr>\n",
       "    <tr>\n",
       "      <th>1599998</th>\n",
       "      <td>1599998</td>\n",
       "      <td>2193602064</td>\n",
       "      <td>Tue Jun 16 08:40:49 PDT 2009</td>\n",
       "      <td>NO_QUERY</td>\n",
       "      <td>tinydiamondz</td>\n",
       "      <td>Happy 38th Birthday to my boo of alll time!!! ...</td>\n",
       "    </tr>\n",
       "    <tr>\n",
       "      <th>1599999</th>\n",
       "      <td>1599999</td>\n",
       "      <td>2193602129</td>\n",
       "      <td>Tue Jun 16 08:40:50 PDT 2009</td>\n",
       "      <td>NO_QUERY</td>\n",
       "      <td>RyanTrevMorris</td>\n",
       "      <td>happy #charitytuesday @theNSPCC @SparksCharity...</td>\n",
       "    </tr>\n",
       "  </tbody>\n",
       "</table>\n",
       "<p>1600000 rows × 6 columns</p>\n",
       "</div>"
      ],
      "text/plain": [
       "           index          id                          date      flag  \\\n",
       "0              0  1467810369  Mon Apr 06 22:19:45 PDT 2009  NO_QUERY   \n",
       "1              1  1467810672  Mon Apr 06 22:19:49 PDT 2009  NO_QUERY   \n",
       "2              2  1467810917  Mon Apr 06 22:19:53 PDT 2009  NO_QUERY   \n",
       "3              3  1467811184  Mon Apr 06 22:19:57 PDT 2009  NO_QUERY   \n",
       "4              4  1467811193  Mon Apr 06 22:19:57 PDT 2009  NO_QUERY   \n",
       "...          ...         ...                           ...       ...   \n",
       "1599995  1599995  2193601966  Tue Jun 16 08:40:49 PDT 2009  NO_QUERY   \n",
       "1599996  1599996  2193601969  Tue Jun 16 08:40:49 PDT 2009  NO_QUERY   \n",
       "1599997  1599997  2193601991  Tue Jun 16 08:40:49 PDT 2009  NO_QUERY   \n",
       "1599998  1599998  2193602064  Tue Jun 16 08:40:49 PDT 2009  NO_QUERY   \n",
       "1599999  1599999  2193602129  Tue Jun 16 08:40:50 PDT 2009  NO_QUERY   \n",
       "\n",
       "                    user                                               text  \n",
       "0        _TheSpecialOne_  @switchfoot http://twitpic.com/2y1zl - Awww, t...  \n",
       "1          scotthamilton  is upset that he can't update his Facebook by ...  \n",
       "2               mattycus  @Kenichan I dived many times for the ball. Man...  \n",
       "3                ElleCTF    my whole body feels itchy and like its on fire   \n",
       "4                 Karoli  @nationwideclass no, it's not behaving at all....  \n",
       "...                  ...                                                ...  \n",
       "1599995  AmandaMarie1028  Just woke up. Having no school is the best fee...  \n",
       "1599996      TheWDBoards  TheWDB.com - Very cool to hear old Walt interv...  \n",
       "1599997           bpbabe  Are you ready for your MoJo Makeover? Ask me f...  \n",
       "1599998     tinydiamondz  Happy 38th Birthday to my boo of alll time!!! ...  \n",
       "1599999   RyanTrevMorris  happy #charitytuesday @theNSPCC @SparksCharity...  \n",
       "\n",
       "[1600000 rows x 6 columns]"
      ]
     },
     "execution_count": 5,
     "metadata": {},
     "output_type": "execute_result"
    }
   ],
   "source": [
    "#viewing dataset as pd df\n",
    "columns = [\"index\", \"id\", \"date\", \"flag\", \"user\", \"text\"]\n",
    "pdDf = pd.read_csv(\"ProjectTweets.csv\", header=None, names=columns)\n",
    "\n",
    "pdDf"
   ]
  },
  {
   "cell_type": "markdown",
   "id": "859bdee5",
   "metadata": {},
   "source": [
    "### Loading csv data file to spark"
   ]
  },
  {
   "cell_type": "code",
   "execution_count": 6,
   "id": "d699ac41",
   "metadata": {
    "scrolled": true
   },
   "outputs": [
    {
     "name": "stdout",
     "output_type": "stream",
     "text": [
      "root\n",
      " |-- index: string (nullable = true)\n",
      " |-- id: string (nullable = true)\n",
      " |-- date: timestamp (nullable = true)\n",
      " |-- flag: string (nullable = true)\n",
      " |-- user: string (nullable = true)\n",
      " |-- text: string (nullable = true)\n",
      "\n"
     ]
    },
    {
     "name": "stderr",
     "output_type": "stream",
     "text": [
      "\r",
      "[Stage 0:>                                                          (0 + 1) / 1]\r"
     ]
    },
    {
     "name": "stdout",
     "output_type": "stream",
     "text": [
      "+-----+----------+-------------------+--------+---------------+--------------------+\n",
      "|index|        id|               date|    flag|           user|                text|\n",
      "+-----+----------+-------------------+--------+---------------+--------------------+\n",
      "|    0|1467810369|2009-04-07 06:19:45|NO_QUERY|_TheSpecialOne_|@switchfoot http:...|\n",
      "|    1|1467810672|2009-04-07 06:19:49|NO_QUERY|  scotthamilton|is upset that he ...|\n",
      "|    2|1467810917|2009-04-07 06:19:53|NO_QUERY|       mattycus|@Kenichan I dived...|\n",
      "|    3|1467811184|2009-04-07 06:19:57|NO_QUERY|        ElleCTF|my whole body fee...|\n",
      "|    4|1467811193|2009-04-07 06:19:57|NO_QUERY|         Karoli|@nationwideclass ...|\n",
      "|    5|1467811372|2009-04-07 06:20:00|NO_QUERY|       joy_wolf|@Kwesidei not the...|\n",
      "|    6|1467811592|2009-04-07 06:20:03|NO_QUERY|        mybirch|         Need a hug |\n",
      "|    7|1467811594|2009-04-07 06:20:03|NO_QUERY|           coZZ|@LOLTrish hey  lo...|\n",
      "|    8|1467811795|2009-04-07 06:20:05|NO_QUERY|2Hood4Hollywood|@Tatiana_K nope t...|\n",
      "|    9|1467812025|2009-04-07 06:20:09|NO_QUERY|        mimismo|@twittera que me ...|\n",
      "|   10|1467812416|2009-04-07 06:20:16|NO_QUERY| erinx3leannexo|spring break in p...|\n",
      "|   11|1467812579|2009-04-07 06:20:17|NO_QUERY|   pardonlauren|I just re-pierced...|\n",
      "|   12|1467812723|2009-04-07 06:20:19|NO_QUERY|           TLeC|@caregiving I cou...|\n",
      "|   13|1467812771|2009-04-07 06:20:19|NO_QUERY|robrobbierobert|@octolinz16 It it...|\n",
      "|   14|1467812784|2009-04-07 06:20:20|NO_QUERY|    bayofwolves|@smarrison i woul...|\n",
      "|   15|1467812799|2009-04-07 06:20:20|NO_QUERY|     HairByJess|@iamjazzyfizzle I...|\n",
      "|   16|1467812964|2009-04-07 06:20:22|NO_QUERY| lovesongwriter|Hollis' death sce...|\n",
      "|   17|1467813137|2009-04-07 06:20:25|NO_QUERY|       armotley|about to file taxes |\n",
      "|   18|1467813579|2009-04-07 06:20:31|NO_QUERY|     starkissed|@LettyA ahh ive a...|\n",
      "|   19|1467813782|2009-04-07 06:20:34|NO_QUERY|      gi_gi_bee|@FakerPattyPattz ...|\n",
      "+-----+----------+-------------------+--------+---------------+--------------------+\n",
      "only showing top 20 rows\n",
      "\n"
     ]
    },
    {
     "name": "stderr",
     "output_type": "stream",
     "text": [
      "\r",
      "                                                                                \r"
     ]
    }
   ],
   "source": [
    "# Issue with pattern in the DateTimeFormatter when converting to timestamp due to spark version. Setting timeParserPolicy to LEGACY as the error suggested\n",
    "spark.conf.set(\"spark.sql.legacy.timeParserPolicy\",\"LEGACY\") \n",
    "\n",
    "#defining schema\n",
    "schema = StructType([\n",
    "    StructField(\"index\", StringType(), True),\n",
    "    StructField(\"id\", StringType(), True),\n",
    "    StructField(\"date\", StringType(), True),\n",
    "    StructField(\"flag\", StringType(), True),\n",
    "    StructField(\"user\", StringType(), True),\n",
    "    StructField(\"text\", StringType(), True)\n",
    "])\n",
    "\n",
    "tweetsDf= spark.read.csv('hdfs://localhost:9000/user1/ProjectTweets.csv', schema=schema, header=False)\n",
    "\n",
    "# converting date column to timestamp, pattern taken from https://spark.apache.org/docs/latest/sql-ref-datetime-pattern.html\n",
    "tweetsDf= tweetsDf.withColumn(\"date\", to_timestamp(\"date\", \"EEE MMM dd HH:mm:ss zzz yyyy\"))\n",
    "\n",
    "tweetsDf.printSchema();tweetsDf.show()"
   ]
  },
  {
   "cell_type": "markdown",
   "id": "239a0397",
   "metadata": {},
   "source": [
    "checking flag column"
   ]
  },
  {
   "cell_type": "code",
   "execution_count": 7,
   "id": "5ff348e0",
   "metadata": {},
   "outputs": [
    {
     "name": "stderr",
     "output_type": "stream",
     "text": [
      "                                                                                \r"
     ]
    },
    {
     "data": {
      "text/plain": [
       "[Row(flag='NO_QUERY')]"
      ]
     },
     "execution_count": 7,
     "metadata": {},
     "output_type": "execute_result"
    }
   ],
   "source": [
    "#extracting \"flag\" column as RDD, showing unique values with distinct funcion and showing with collect()\n",
    "tweetsDf.select(\"flag\").rdd.distinct().collect()"
   ]
  },
  {
   "cell_type": "code",
   "execution_count": 8,
   "id": "e228bc52",
   "metadata": {},
   "outputs": [
    {
     "name": "stderr",
     "output_type": "stream",
     "text": [
      "                                                                                \r"
     ]
    },
    {
     "data": {
      "text/plain": [
       "1685"
      ]
     },
     "execution_count": 8,
     "metadata": {},
     "output_type": "execute_result"
    }
   ],
   "source": [
    "# counting the number of duplicated IDs, grouping by id and filterring out rows where id count is 1. Then counting those rows\n",
    "tweetsDf.groupBy(\"id\").count().filter(col(\"count\") > 1).count()"
   ]
  },
  {
   "cell_type": "code",
   "execution_count": 9,
   "id": "1320c71d",
   "metadata": {},
   "outputs": [
    {
     "name": "stderr",
     "output_type": "stream",
     "text": [
      "                                                                                \r"
     ]
    },
    {
     "data": {
      "text/plain": [
       "1685"
      ]
     },
     "execution_count": 9,
     "metadata": {},
     "output_type": "execute_result"
    }
   ],
   "source": [
    "#counting the number of duplicated rows, same as above but addind the remaining features except index because this one would always be different\n",
    "tweetsDf.groupBy([\"id\", \"date\", \"flag\", \"user\", \"text\"]).count().filter(col(\"count\") > 1).count()"
   ]
  },
  {
   "cell_type": "code",
   "execution_count": 10,
   "id": "5f71440e",
   "metadata": {},
   "outputs": [
    {
     "name": "stderr",
     "output_type": "stream",
     "text": [
      "                                                                                \r"
     ]
    },
    {
     "data": {
      "text/plain": [
       "1600000"
      ]
     },
     "execution_count": 10,
     "metadata": {},
     "output_type": "execute_result"
    }
   ],
   "source": [
    "#number of rows\n",
    "tweetsDf.count()"
   ]
  },
  {
   "cell_type": "code",
   "execution_count": 11,
   "id": "4ba4c94a",
   "metadata": {},
   "outputs": [],
   "source": [
    "# dropping rows with duplicate IDs (keeping the first occurrence)\n",
    "tweetsDf= tweetsDf.dropDuplicates([\"id\"])"
   ]
  },
  {
   "cell_type": "code",
   "execution_count": 12,
   "id": "0b784ff5",
   "metadata": {},
   "outputs": [
    {
     "name": "stderr",
     "output_type": "stream",
     "text": [
      "                                                                                \r"
     ]
    },
    {
     "data": {
      "text/plain": [
       "1598315"
      ]
     },
     "execution_count": 12,
     "metadata": {},
     "output_type": "execute_result"
    }
   ],
   "source": [
    "#number of rows\n",
    "tweetsDf.count()"
   ]
  },
  {
   "cell_type": "markdown",
   "id": "40b55e43",
   "metadata": {},
   "source": [
    "#### Tweets in English"
   ]
  },
  {
   "cell_type": "code",
   "execution_count": 13,
   "id": "e18f2198",
   "metadata": {},
   "outputs": [],
   "source": [
    "#!pip install langdetect"
   ]
  },
  {
   "cell_type": "code",
   "execution_count": 14,
   "id": "800799fd",
   "metadata": {},
   "outputs": [],
   "source": [
    "#importing library for language detection\n",
    "from langdetect import detect"
   ]
  },
  {
   "cell_type": "code",
   "execution_count": 15,
   "id": "b4cc0d2f",
   "metadata": {},
   "outputs": [],
   "source": [
    "def detect_language(tweet):\n",
    "    try:\n",
    "        return detect(tweet)\n",
    "    except:\n",
    "        return 'unknown'  # Return 'unknown' in case of an error with langdetect\n",
    "\n",
    "# defining a user function (UDF)\n",
    "detect_language_udf = udf(detect_language) \n",
    "\n",
    "# adding new column to label each tweet with a language\n",
    "tweetsDf = tweetsDf.withColumn('language', detect_language_udf(col('text')))"
   ]
  },
  {
   "cell_type": "code",
   "execution_count": 16,
   "id": "d3106788",
   "metadata": {},
   "outputs": [],
   "source": [
    "# Filter out non-English tweets\n",
    "TweetsDf = tweetsDf.filter(col('language') == 'en')"
   ]
  },
  {
   "cell_type": "code",
   "execution_count": 17,
   "id": "49efee00",
   "metadata": {},
   "outputs": [],
   "source": [
    "#dropping unnecessary columns\n",
    "tweetsDf=tweetsDf.drop(\"flag\",\"language\")"
   ]
  },
  {
   "cell_type": "markdown",
   "id": "47134bbc",
   "metadata": {},
   "source": [
    "Checking number of unique users and users with greatest count of tweets"
   ]
  },
  {
   "cell_type": "code",
   "execution_count": 18,
   "id": "f86c63d8",
   "metadata": {},
   "outputs": [
    {
     "name": "stderr",
     "output_type": "stream",
     "text": [
      "                                                                                \r"
     ]
    },
    {
     "data": {
      "text/plain": [
       "659775"
      ]
     },
     "execution_count": 18,
     "metadata": {},
     "output_type": "execute_result"
    }
   ],
   "source": [
    "# number of unique users as RDD, same as done with attribute 'flag'\n",
    "tweetsDf.select(\"user\").rdd.distinct().count()"
   ]
  },
  {
   "cell_type": "code",
   "execution_count": 19,
   "id": "9da12a51",
   "metadata": {
    "scrolled": false
   },
   "outputs": [
    {
     "name": "stderr",
     "output_type": "stream",
     "text": [
      "[Stage 30:>                                                         (0 + 1) / 1]\r"
     ]
    },
    {
     "name": "stdout",
     "output_type": "stream",
     "text": [
      "+---------------+-----+\n",
      "|           user|count|\n",
      "+---------------+-----+\n",
      "|       lost_dog|  549|\n",
      "|        webwoke|  345|\n",
      "|       tweetpet|  310|\n",
      "|SallytheShizzle|  281|\n",
      "|    VioletsCRUK|  279|\n",
      "|    mcraddictal|  276|\n",
      "|       tsarnick|  248|\n",
      "|    what_bugs_u|  246|\n",
      "|    Karen230683|  238|\n",
      "|      DarkPiano|  236|\n",
      "|   SongoftheOss|  227|\n",
      "|      Jayme1988|  225|\n",
      "|         keza34|  219|\n",
      "| ramdomthoughts|  216|\n",
      "|      shanajaca|  213|\n",
      "|         wowlew|  212|\n",
      "|     nuttychris|  211|\n",
      "|   TraceyHewins|  211|\n",
      "|   thisgoeshere|  207|\n",
      "|     Spidersamm|  205|\n",
      "+---------------+-----+\n",
      "only showing top 20 rows\n",
      "\n"
     ]
    },
    {
     "name": "stderr",
     "output_type": "stream",
     "text": [
      "\r",
      "                                                                                \r"
     ]
    }
   ],
   "source": [
    "#users with greatest count of tweets\n",
    "# registerring the df as a temporary view\n",
    "tweetsDf.createOrReplaceTempView(\"tweets\")\n",
    "\n",
    "# SQL query, selecting user column and adding another column called count showing the counts in descendent order\n",
    "query = \"\"\"SELECT user, COUNT(*) as count\n",
    "    FROM tweets\n",
    "    GROUP BY user\n",
    "    ORDER BY count DESC\"\"\"\n",
    "\n",
    "# running the SQL query and showing result\n",
    "spark.sql(query).show()"
   ]
  },
  {
   "cell_type": "markdown",
   "id": "453d8738",
   "metadata": {},
   "source": [
    "### DATES"
   ]
  },
  {
   "cell_type": "code",
   "execution_count": 20,
   "id": "227deb9e",
   "metadata": {
    "scrolled": false
   },
   "outputs": [
    {
     "name": "stderr",
     "output_type": "stream",
     "text": [
      "[Stage 36:======================================>                   (2 + 1) / 3]\r"
     ]
    },
    {
     "name": "stdout",
     "output_type": "stream",
     "text": [
      "+-----+----------+-------------------+---------------+--------------------+\n",
      "|index|        id|               date|           user|                text|\n",
      "+-----+----------+-------------------+---------------+--------------------+\n",
      "|    0|1467810369|2009-04-07 06:19:45|_TheSpecialOne_|@switchfoot http:...|\n",
      "|    1|1467810672|2009-04-07 06:19:49|  scotthamilton|is upset that he ...|\n",
      "|    2|1467810917|2009-04-07 06:19:53|       mattycus|@Kenichan I dived...|\n",
      "|    3|1467811184|2009-04-07 06:19:57|        ElleCTF|my whole body fee...|\n",
      "|    4|1467811193|2009-04-07 06:19:57|         Karoli|@nationwideclass ...|\n",
      "|    5|1467811372|2009-04-07 06:20:00|       joy_wolf|@Kwesidei not the...|\n",
      "|    7|1467811594|2009-04-07 06:20:03|           coZZ|@LOLTrish hey  lo...|\n",
      "|    6|1467811592|2009-04-07 06:20:03|        mybirch|         Need a hug |\n",
      "|    8|1467811795|2009-04-07 06:20:05|2Hood4Hollywood|@Tatiana_K nope t...|\n",
      "|    9|1467812025|2009-04-07 06:20:09|        mimismo|@twittera que me ...|\n",
      "|   10|1467812416|2009-04-07 06:20:16| erinx3leannexo|spring break in p...|\n",
      "|   11|1467812579|2009-04-07 06:20:17|   pardonlauren|I just re-pierced...|\n",
      "|   13|1467812771|2009-04-07 06:20:19|robrobbierobert|@octolinz16 It it...|\n",
      "|   12|1467812723|2009-04-07 06:20:19|           TLeC|@caregiving I cou...|\n",
      "|   14|1467812784|2009-04-07 06:20:20|    bayofwolves|@smarrison i woul...|\n",
      "|   15|1467812799|2009-04-07 06:20:20|     HairByJess|@iamjazzyfizzle I...|\n",
      "|   16|1467812964|2009-04-07 06:20:22| lovesongwriter|Hollis' death sce...|\n",
      "|   17|1467813137|2009-04-07 06:20:25|       armotley|about to file taxes |\n",
      "|   18|1467813579|2009-04-07 06:20:31|     starkissed|@LettyA ahh ive a...|\n",
      "|   19|1467813782|2009-04-07 06:20:34|      gi_gi_bee|@FakerPattyPattz ...|\n",
      "+-----+----------+-------------------+---------------+--------------------+\n",
      "only showing top 20 rows\n",
      "\n"
     ]
    },
    {
     "name": "stderr",
     "output_type": "stream",
     "text": [
      "\r",
      "                                                                                \r"
     ]
    }
   ],
   "source": [
    "#Ordering rows by date\n",
    "tweetsDf= tweetsDf.orderBy(\"date\")\n",
    "tweetsDf.show()"
   ]
  },
  {
   "cell_type": "code",
   "execution_count": 21,
   "id": "62e0857c",
   "metadata": {},
   "outputs": [
    {
     "name": "stderr",
     "output_type": "stream",
     "text": [
      "                                                                                \r"
     ]
    },
    {
     "data": {
      "text/plain": [
       "True"
      ]
     },
     "execution_count": 21,
     "metadata": {},
     "output_type": "execute_result"
    }
   ],
   "source": [
    "# checking if the df is ordered by id\n",
    "# aggregation on the df and calculation of the min and max values of parameter \"id\"\n",
    "#checking if min_id < max_id, returning a df with a single Boolean value\n",
    "# collect executes the transformations and select access row 0 column 0 from resulting df\n",
    "tweetsDf.agg(F.min(\"id\").alias(\"min_id\"), F.max(\"id\").alias(\"max_id\")) \\\n",
    "                    .select(F.col(\"min_id\") < F.col(\"max_id\")) \\\n",
    "                    .collect()[0][0]\n",
    "\n",
    "# True confirms the df is ordered by id"
   ]
  },
  {
   "cell_type": "code",
   "execution_count": 22,
   "id": "34a6ea5c",
   "metadata": {},
   "outputs": [
    {
     "name": "stderr",
     "output_type": "stream",
     "text": [
      "                                                                                \r"
     ]
    },
    {
     "data": {
      "text/plain": [
       "True"
      ]
     },
     "execution_count": 22,
     "metadata": {},
     "output_type": "execute_result"
    }
   ],
   "source": [
    "# is the df ordered by index? Same code as above\n",
    "tweetsDf.agg(F.min(\"index\").alias(\"min_index\"), F.max(\"index\").alias(\"max_index\")) \\\n",
    "                    .select(F.col(\"min_index\") < F.col(\"max_index\")) \\\n",
    "                    .collect()[0][0]"
   ]
  },
  {
   "cell_type": "code",
   "execution_count": 23,
   "id": "4353f1d1",
   "metadata": {},
   "outputs": [
    {
     "name": "stderr",
     "output_type": "stream",
     "text": [
      "[Stage 51:>                                                         (0 + 1) / 1]\r"
     ]
    },
    {
     "name": "stdout",
     "output_type": "stream",
     "text": [
      "minimum date:  2009-04-07 06:19:45 \n",
      "maximum date:  2009-06-25 18:28:31\n"
     ]
    },
    {
     "name": "stderr",
     "output_type": "stream",
     "text": [
      "\r",
      "                                                                                \r"
     ]
    }
   ],
   "source": [
    "oldestDate, latestDate = tweetsDf.select(min(\"date\"), max(\"date\")).first()\n",
    "print('minimum date: ',oldestDate,'\\nmaximum date: ',latestDate)"
   ]
  },
  {
   "cell_type": "markdown",
   "id": "21107b73",
   "metadata": {},
   "source": [
    "#### DATES COUNTS DF"
   ]
  },
  {
   "cell_type": "code",
   "execution_count": 24,
   "id": "461e0442",
   "metadata": {
    "scrolled": true
   },
   "outputs": [
    {
     "name": "stderr",
     "output_type": "stream",
     "text": [
      "[Stage 57:>                                                         (0 + 1) / 1]\r"
     ]
    },
    {
     "name": "stdout",
     "output_type": "stream",
     "text": [
      "+-------------------+-----+\n",
      "|               date|count|\n",
      "+-------------------+-----+\n",
      "|2009-06-15 20:53:14|   20|\n",
      "|2009-05-22 13:10:17|   17|\n",
      "|2009-06-15 21:39:50|   17|\n",
      "|2009-05-29 21:40:04|   17|\n",
      "|2009-06-05 19:05:33|   16|\n",
      "|2009-06-05 22:13:07|   16|\n",
      "|2009-05-29 18:09:34|   15|\n",
      "|2009-06-01 20:25:21|   15|\n",
      "|2009-05-30 15:53:15|   15|\n",
      "|2009-06-06 19:59:49|   15|\n",
      "|2009-06-05 17:45:09|   15|\n",
      "|2009-06-01 23:19:07|   15|\n",
      "|2009-05-22 16:34:27|   15|\n",
      "|2009-06-05 22:17:04|   15|\n",
      "|2009-06-15 18:39:32|   15|\n",
      "|2009-05-30 05:11:33|   14|\n",
      "|2009-05-31 05:07:22|   14|\n",
      "|2009-06-07 23:07:45|   14|\n",
      "|2009-05-30 18:17:56|   14|\n",
      "|2009-06-03 14:52:51|   14|\n",
      "+-------------------+-----+\n",
      "only showing top 20 rows\n",
      "\n"
     ]
    },
    {
     "name": "stderr",
     "output_type": "stream",
     "text": [
      "\r",
      "                                                                                \r"
     ]
    }
   ],
   "source": [
    "#timestamps with greatest count of tweets. Extracting timestamps with module 'functions' and aggregating counts, which are shown in a new column, descendent ordered  \n",
    "tweetsDf.groupBy('date').agg(F.count('*').alias('count')).orderBy(F.desc('count')).show()"
   ]
  },
  {
   "cell_type": "code",
   "execution_count": 25,
   "id": "0136e6a9",
   "metadata": {
    "scrolled": true
   },
   "outputs": [
    {
     "name": "stderr",
     "output_type": "stream",
     "text": [
      "[Stage 63:>                                                         (0 + 1) / 1]\r"
     ]
    },
    {
     "name": "stdout",
     "output_type": "stream",
     "text": [
      "+----------+----+------+-----+\n",
      "|      date|hour|minute|count|\n",
      "+----------+----+------+-----+\n",
      "|2009-05-17|  19|    05| 8075|\n",
      "|2009-06-06|  16|    06| 5478|\n",
      "|2009-06-06|  17|    06| 5394|\n",
      "|2009-06-07|  03|    06| 5097|\n",
      "|2009-06-01|  15|    06| 5048|\n",
      "|2009-06-16|  05|    06| 5043|\n",
      "|2009-05-31|  05|    05| 5037|\n",
      "|2009-05-17|  18|    05| 5037|\n",
      "|2009-06-01|  16|    06| 5029|\n",
      "|2009-06-07|  01|    06| 5020|\n",
      "|2009-06-16|  01|    06| 5012|\n",
      "|2009-05-31|  18|    05| 5008|\n",
      "|2009-06-01|  23|    06| 5006|\n",
      "|2009-06-01|  00|    06| 5004|\n",
      "|2009-05-30|  19|    05| 5003|\n",
      "|2009-05-31|  23|    05| 4993|\n",
      "|2009-06-07|  00|    06| 4983|\n",
      "|2009-06-01|  01|    06| 4983|\n",
      "|2009-06-02|  00|    06| 4979|\n",
      "|2009-06-16|  03|    06| 4979|\n",
      "+----------+----+------+-----+\n",
      "only showing top 20 rows\n",
      "\n"
     ]
    },
    {
     "name": "stderr",
     "output_type": "stream",
     "text": [
      "\r",
      "                                                                                \r"
     ]
    }
   ],
   "source": [
    "#same as above but excluding seconds, using date_format and extracting date, hours and minutes only\n",
    "tweetsDf.groupBy(\n",
    "    F.date_format('date', 'yyyy-MM-dd').alias('date'),\n",
    "    F.date_format('date', 'HH').alias('hour'),\n",
    "    F.date_format('date', 'MM').alias('minute')\n",
    ").agg(F.count('*').alias('count')).orderBy(F.desc('count')).show() #aggregating counts of timestamps (tweets) producing a new column"
   ]
  },
  {
   "cell_type": "markdown",
   "id": "252277a2",
   "metadata": {},
   "source": [
    "#### Natural hours per day that hold tweets"
   ]
  },
  {
   "cell_type": "code",
   "execution_count": 26,
   "id": "819048a0",
   "metadata": {
    "scrolled": true
   },
   "outputs": [
    {
     "name": "stderr",
     "output_type": "stream",
     "text": [
      "[Stage 69:>                                                         (0 + 1) / 1]\r"
     ]
    },
    {
     "name": "stdout",
     "output_type": "stream",
     "text": [
      "+----------+---------------+\n",
      "|      date|uniqueHourCount|\n",
      "+----------+---------------+\n",
      "|2009-06-20|             24|\n",
      "|2009-05-30|             24|\n",
      "|2009-06-19|             24|\n",
      "|2009-06-02|             24|\n",
      "|2009-06-17|             24|\n",
      "|2009-06-16|             24|\n",
      "|2009-06-06|             24|\n",
      "|2009-05-31|             24|\n",
      "|2009-06-07|             24|\n",
      "|2009-06-18|             23|\n",
      "|2009-06-01|             21|\n",
      "|2009-04-19|             19|\n",
      "|2009-06-03|             19|\n",
      "|2009-06-21|             18|\n",
      "|2009-06-15|             18|\n",
      "|2009-05-02|             18|\n",
      "|2009-05-17|             18|\n",
      "|2009-05-10|             17|\n",
      "|2009-05-03|             16|\n",
      "|2009-05-18|             16|\n",
      "+----------+---------------+\n",
      "only showing top 20 rows\n",
      "\n"
     ]
    },
    {
     "name": "stderr",
     "output_type": "stream",
     "text": [
      "\r",
      "                                                                                \r"
     ]
    }
   ],
   "source": [
    "#grouping by date and count unique hours. Extranting features with module 'functions'. Counts the unique hours per day and aggregates the totals in a new column\n",
    "hourlyPerDay = tweetsDf.groupBy(F.to_date('date').alias('date')).agg(F.countDistinct(F.hour('date')).alias('uniqueHourCount'))\n",
    "\n",
    "hourlyPerDay.orderBy(desc('uniqueHourCount')).show() "
   ]
  },
  {
   "cell_type": "code",
   "execution_count": 27,
   "id": "67cb324d",
   "metadata": {
    "scrolled": true
   },
   "outputs": [
    {
     "name": "stderr",
     "output_type": "stream",
     "text": [
      "                                                                                \r"
     ]
    },
    {
     "data": {
      "text/html": [
       "<div>\n",
       "<style scoped>\n",
       "    .dataframe tbody tr th:only-of-type {\n",
       "        vertical-align: middle;\n",
       "    }\n",
       "\n",
       "    .dataframe tbody tr th {\n",
       "        vertical-align: top;\n",
       "    }\n",
       "\n",
       "    .dataframe thead th {\n",
       "        text-align: right;\n",
       "    }\n",
       "</style>\n",
       "<table border=\"1\" class=\"dataframe\">\n",
       "  <thead>\n",
       "    <tr style=\"text-align: right;\">\n",
       "      <th></th>\n",
       "      <th>uniqueHourCount</th>\n",
       "    </tr>\n",
       "  </thead>\n",
       "  <tbody>\n",
       "    <tr>\n",
       "      <th>count</th>\n",
       "      <td>41.000000</td>\n",
       "    </tr>\n",
       "    <tr>\n",
       "      <th>mean</th>\n",
       "      <td>14.463415</td>\n",
       "    </tr>\n",
       "    <tr>\n",
       "      <th>std</th>\n",
       "      <td>7.691221</td>\n",
       "    </tr>\n",
       "    <tr>\n",
       "      <th>min</th>\n",
       "      <td>1.000000</td>\n",
       "    </tr>\n",
       "    <tr>\n",
       "      <th>25%</th>\n",
       "      <td>7.000000</td>\n",
       "    </tr>\n",
       "    <tr>\n",
       "      <th>50%</th>\n",
       "      <td>16.000000</td>\n",
       "    </tr>\n",
       "    <tr>\n",
       "      <th>75%</th>\n",
       "      <td>21.000000</td>\n",
       "    </tr>\n",
       "    <tr>\n",
       "      <th>max</th>\n",
       "      <td>24.000000</td>\n",
       "    </tr>\n",
       "  </tbody>\n",
       "</table>\n",
       "</div>"
      ],
      "text/plain": [
       "       uniqueHourCount\n",
       "count        41.000000\n",
       "mean         14.463415\n",
       "std           7.691221\n",
       "min           1.000000\n",
       "25%           7.000000\n",
       "50%          16.000000\n",
       "75%          21.000000\n",
       "max          24.000000"
      ]
     },
     "execution_count": 27,
     "metadata": {},
     "output_type": "execute_result"
    }
   ],
   "source": [
    "#checking percentiles\n",
    "hourlyPerDay.toPandas().describe(percentiles=[0.25, 0.5, 0.75])"
   ]
  },
  {
   "cell_type": "code",
   "execution_count": 28,
   "id": "05bc33f7",
   "metadata": {
    "scrolled": true
   },
   "outputs": [
    {
     "name": "stdout",
     "output_type": "stream",
     "text": [
      " Between\n",
      " 2009-04-07 06:19:45 \n",
      " and\n",
      " 2009-06-25 18:28:31 \n",
      "there are\n",
      " 79 days, 12:08:46\n"
     ]
    },
    {
     "name": "stderr",
     "output_type": "stream",
     "text": [
      "                                                                                \r"
     ]
    },
    {
     "name": "stdout",
     "output_type": "stream",
     "text": [
      " there are missing dates -> 39\n"
     ]
    },
    {
     "name": "stderr",
     "output_type": "stream",
     "text": [
      "[Stage 116:>                                                        (0 + 1) / 1]\r"
     ]
    },
    {
     "name": "stdout",
     "output_type": "stream",
     "text": [
      "+----------+\n",
      "|      date|\n",
      "+----------+\n",
      "|2009-04-08|\n",
      "|2009-04-09|\n",
      "|2009-04-10|\n",
      "|2009-04-11|\n",
      "|2009-04-12|\n",
      "|2009-04-13|\n",
      "|2009-04-14|\n",
      "|2009-04-15|\n",
      "|2009-04-16|\n",
      "|2009-04-17|\n",
      "|2009-04-22|\n",
      "|2009-04-23|\n",
      "|2009-04-24|\n",
      "|2009-04-25|\n",
      "|2009-04-26|\n",
      "|2009-04-27|\n",
      "|2009-04-28|\n",
      "|2009-04-29|\n",
      "|2009-04-30|\n",
      "|2009-05-01|\n",
      "|2009-05-05|\n",
      "|2009-05-06|\n",
      "|2009-05-07|\n",
      "|2009-05-08|\n",
      "|2009-05-09|\n",
      "|2009-05-13|\n",
      "|2009-05-15|\n",
      "|2009-05-16|\n",
      "|2009-05-19|\n",
      "|2009-05-20|\n",
      "|2009-05-21|\n",
      "|2009-05-23|\n",
      "|2009-05-26|\n",
      "|2009-05-28|\n",
      "|2009-06-09|\n",
      "|2009-06-10|\n",
      "|2009-06-11|\n",
      "|2009-06-12|\n",
      "|2009-06-13|\n",
      "+----------+\n",
      "\n"
     ]
    },
    {
     "name": "stderr",
     "output_type": "stream",
     "text": [
      "\r",
      "                                                                                \r"
     ]
    }
   ],
   "source": [
    "#Confirmation of missing dates:\n",
    "print(' Between\\n',oldestDate,'\\n and\\n',latestDate,'\\nthere are\\n',latestDate - oldestDate)\n",
    "\n",
    "\n",
    "#generating the list of dates. 86400 s/day\n",
    "timeRange = spark.range(start=oldestDate.strftime(\"%s\"), end=latestDate.strftime(\"%s\"), step=86400).selectExpr(\"to_date(from_unixtime(id)) as date\")\n",
    "\n",
    "\n",
    "\n",
    "#Listing missing dates with anti-join between the date range and the 'date' column. \n",
    "missingDates= timeRange.join(tweetsDf, timeRange.date == tweetsDf.date.cast(DateType()), 'leftanti') # leftanti selects the rows from the left df that do not have a matching key from the right df\n",
    "\n",
    "\n",
    "print(\" there are missing dates ->\",missingDates.count());missingDates.show(missingDates.count())"
   ]
  },
  {
   "cell_type": "code",
   "execution_count": 29,
   "id": "393a0164",
   "metadata": {},
   "outputs": [
    {
     "data": {
      "image/png": "[encoded data removed]",
      "text/plain": [
       "<Figure size 432x288 with 1 Axes>"
      ]
     },
     "metadata": {
      "needs_background": "light"
     },
     "output_type": "display_data"
    }
   ],
   "source": [
    "#transforming to pandas for the histogram \n",
    "plt.hist(hourlyPerDay.toPandas()['uniqueHourCount'], bins=12, edgecolor='white')\n",
    "\n",
    "#Arranging axis labels, ticks, title\n",
    "plt.xlabel('Hours')\n",
    "plt.ylabel('Frequency')\n",
    "plt.xticks(np.arange(2,24,2)) #Adjusting xticks to the bins\n",
    "plt.title('Fig. 1 - Histogram of unique hours with tweets per day')\n",
    "\n",
    "plt.show()"
   ]
  },
  {
   "cell_type": "code",
   "execution_count": 30,
   "id": "cda334e4",
   "metadata": {},
   "outputs": [
    {
     "name": "stderr",
     "output_type": "stream",
     "text": [
      "                                                                                \r"
     ]
    },
    {
     "data": {
      "image/png": "[encoded data removed]",
      "text/plain": [
       "<Figure size 504x288 with 1 Axes>"
      ]
     },
     "metadata": {
      "needs_background": "light"
     },
     "output_type": "display_data"
    }
   ],
   "source": [
    "#extracting each of the days of the week\n",
    "tweetsDf= tweetsDf.withColumn('day_of_week', dayofweek('date'))\n",
    "\n",
    "# counting number of tweets by day of the week by adding a new column\n",
    "tweetCounts= tweetsDf.groupBy('day_of_week').agg(count('*').alias('count'))\n",
    "\n",
    "\n",
    "dayLabels= ['Monday', 'Tuesday', 'Wednesday', 'Thursday', 'Friday', 'Saturday', 'Sunday']\n",
    "\n",
    "plt.figure(figsize=(7, 4))#setting size of plot\n",
    "plt.bar(tweetCounts.toPandas()['day_of_week'], tweetCounts.toPandas()['count'])#need to convert to pandas\n",
    "\n",
    "#Arranging axis labels, ticks, title\n",
    "plt.xlabel('Day of the week')\n",
    "plt.ylabel('Count of tweets')\n",
    "plt.title('Fig. 2 - Histogram of tweets per day of the week')\n",
    "plt.xticks(range(1, 8), dayLabels, rotation=45)\n",
    "plt.show()"
   ]
  },
  {
   "cell_type": "code",
   "execution_count": 31,
   "id": "a43e6741",
   "metadata": {
    "scrolled": false
   },
   "outputs": [
    {
     "name": "stderr",
     "output_type": "stream",
     "text": [
      "                                                                                \r"
     ]
    },
    {
     "data": {
      "image/png": "[encoded data removed]",
      "text/plain": [
       "<Figure size 1080x432 with 1 Axes>"
      ]
     },
     "metadata": {
      "needs_background": "light"
     },
     "output_type": "display_data"
    }
   ],
   "source": [
    "#extracting each of the 24 hours of a day\n",
    "tweetsDf= tweetsDf.withColumn('hour_of_day', hour('date'))\n",
    "\n",
    "#adding column with counts\n",
    "tweetCounts= tweetsDf.groupBy('hour_of_day').agg(count('*').alias('count'))\n",
    "\n",
    "\n",
    "plt.figure(figsize=(15, 6))\n",
    "plt.bar(tweetCounts.toPandas()['hour_of_day'], tweetCounts.toPandas()['count'])\n",
    "plt.xlabel('Hour of the day')\n",
    "plt.ylabel('Count of tweets')\n",
    "plt.title('Fig. 3 - Histogram per hour of the day')\n",
    "plt.xticks(range(24))\n",
    "plt.tight_layout()\n",
    "plt.show()"
   ]
  },
  {
   "cell_type": "code",
   "execution_count": null,
   "id": "8ab061af",
   "metadata": {},
   "outputs": [],
   "source": []
  },
  {
   "cell_type": "markdown",
   "id": "82b35e4d",
   "metadata": {},
   "source": [
    "## Text"
   ]
  },
  {
   "cell_type": "code",
   "execution_count": 32,
   "id": "0d13801d",
   "metadata": {
    "scrolled": true
   },
   "outputs": [
    {
     "name": "stderr",
     "output_type": "stream",
     "text": [
      "[Stage 147:======================================>                  (2 + 1) / 3]\r"
     ]
    }
   ],
   "source": [
    "# converting to RDD, descriptive part\n",
    "tweetsRdd = tweetsDf.rdd"
   ]
  },
  {
   "cell_type": "code",
   "execution_count": 33,
   "id": "5ec456d2",
   "metadata": {},
   "outputs": [
    {
     "name": "stderr",
     "output_type": "stream",
     "text": [
      "                                                                                \r"
     ]
    },
    {
     "data": {
      "text/plain": [
       "74.06687104857303"
      ]
     },
     "execution_count": 33,
     "metadata": {},
     "output_type": "execute_result"
    }
   ],
   "source": [
    "#counting number of characters in text field of each row. Values stored in a list\n",
    "charCounts= tweetsRdd.map(lambda row: len(row.text)).collect()\n",
    "sum(charCounts) / len(charCounts)"
   ]
  },
  {
   "cell_type": "code",
   "execution_count": 34,
   "id": "727219cf",
   "metadata": {
    "scrolled": true
   },
   "outputs": [
    {
     "name": "stderr",
     "output_type": "stream",
     "text": [
      "                                                                                \r"
     ]
    }
   ],
   "source": [
    "#counting the number of words in each tweet by splitting text. List created\n",
    "wordCounts= tweetsRdd.map(lambda row: len(row.text.split())).collect()"
   ]
  },
  {
   "cell_type": "code",
   "execution_count": 35,
   "id": "741a4409",
   "metadata": {},
   "outputs": [
    {
     "data": {
      "text/plain": [
       "21052270"
      ]
     },
     "execution_count": 35,
     "metadata": {},
     "output_type": "execute_result"
    }
   ],
   "source": [
    "#number of words\n",
    "sum(wordCounts)"
   ]
  },
  {
   "cell_type": "code",
   "execution_count": 36,
   "id": "74a9c65b",
   "metadata": {},
   "outputs": [
    {
     "data": {
      "text/plain": [
       "13.171540028092085"
      ]
     },
     "execution_count": 36,
     "metadata": {},
     "output_type": "execute_result"
    }
   ],
   "source": [
    "#average number of words per tweet\n",
    "sum(wordCounts)/len(wordCounts)"
   ]
  },
  {
   "cell_type": "code",
   "execution_count": 37,
   "id": "19486674",
   "metadata": {},
   "outputs": [
    {
     "data": {
      "text/plain": [
       "6.957362523703989"
      ]
     },
     "execution_count": 37,
     "metadata": {},
     "output_type": "execute_result"
    }
   ],
   "source": [
    "#standar deviation\n",
    "np.std(wordCounts)"
   ]
  },
  {
   "cell_type": "code",
   "execution_count": 38,
   "id": "c18e0a4b",
   "metadata": {},
   "outputs": [
    {
     "data": {
      "image/png": "[encoded data removed]",
      "text/plain": [
       "<Figure size 432x288 with 1 Axes>"
      ]
     },
     "metadata": {
      "needs_background": "light"
     },
     "output_type": "display_data"
    }
   ],
   "source": [
    "#plotting the histogram\n",
    "plt.hist(wordCounts, bins=15, edgecolor='white')\n",
    "plt.xlabel('Number of words')\n",
    "plt.ylabel('Frequency')\n",
    "plt.title('Fig. 4 - Word Count Histogram')\n",
    "plt.show()"
   ]
  },
  {
   "cell_type": "code",
   "execution_count": 39,
   "id": "0ff33fd7",
   "metadata": {},
   "outputs": [
    {
     "name": "stderr",
     "output_type": "stream",
     "text": [
      "                                                                                \r"
     ]
    },
    {
     "data": {
      "text/plain": [
       "0.04626246955791466"
      ]
     },
     "execution_count": 39,
     "metadata": {},
     "output_type": "execute_result"
    }
   ],
   "source": [
    "#Checking % of upper case words\n",
    "allWords= tweetsRdd.flatMap(lambda row: row.text.split())\n",
    "uppercaseWords= allWords.filter(lambda word: word.isupper())\n",
    "\n",
    "#proportion\n",
    "uppercaseWords.count() / allWords.count()"
   ]
  },
  {
   "cell_type": "markdown",
   "id": "ab89b37a",
   "metadata": {},
   "source": [
    "### checking most common words"
   ]
  },
  {
   "cell_type": "code",
   "execution_count": 40,
   "id": "6dbcc199",
   "metadata": {},
   "outputs": [],
   "source": [
    "#extracting all words from the tweets, splitting text with a single space\n",
    "words= tweetsRdd.flatMap(lambda tweet: tweet[4].split(\" \")) # flatMap flattens the RDD after applying the function on column 4 (text). Returns one single collection instead of a collection of collections (like one dimension)\n",
    "\n",
    "#Filtering words with >3 characters\n",
    "filteredWords= words.filter(lambda word: len(word) > 4)\n",
    "\n",
    "\n",
    "\n",
    "#counting totals per word, case insensitive\n",
    "wordCounts = filteredWords.map(lambda word: (word.lower(), 1)).reduceByKey(lambda a, b: a + b) # reduceByKey merges the values for each key using an associative and commutative reduce function"
   ]
  },
  {
   "cell_type": "code",
   "execution_count": 41,
   "id": "4d4e3037",
   "metadata": {
    "scrolled": true
   },
   "outputs": [
    {
     "name": "stderr",
     "output_type": "stream",
     "text": [
      "[Stage 171:======================================>                  (2 + 1) / 3]\r"
     ]
    },
    {
     "name": "stdout",
     "output_type": "stream",
     "text": [
      "going  -  62205\n",
      "about  -  48654\n",
      "don't  -  48025\n",
      "really  -  46113\n",
      "can't  -  44233\n",
      "still  -  41358\n",
      "&amp;  -  40077\n",
      "think  -  38906\n",
      "today  -  36471\n",
      "thanks  -  30152\n",
      "there  -  29241\n",
      "night  -  27654\n",
      "great  -  27189\n",
      "would  -  26096\n",
      "getting  -  24020\n",
      "twitter  -  23580\n",
      "happy  -  23536\n",
      "gonna  -  23381\n",
      "watching  -  22136\n",
      "morning  -  21713\n",
      "should  -  21508\n",
      "right  -  21380\n",
      "that's  -  21124\n",
      "could  -  20802\n",
      "didn't  -  19874\n",
      "sorry  -  19870\n",
      "tomorrow  -  19809\n",
      "you're  -  18975\n",
      "sleep  -  18728\n",
      "after  -  18071\n",
      "better  -  17807\n",
      "thank  -  17482\n",
      "never  -  17326\n",
      "people  -  16830\n",
      "again  -  16506\n",
      "wanna  -  16278\n",
      "little  -  16259\n",
      "having  -  15819\n",
      "being  -  15731\n",
      "first  -  15228\n",
      "school  -  14846\n",
      "watch  -  14779\n",
      "doing  -  14529\n",
      "working  -  14311\n",
      "feeling  -  14107\n",
      "always  -  14059\n",
      "another  -  14023\n",
      "tonight  -  13383\n",
      "though  -  13370\n",
      "because  -  13275\n"
     ]
    },
    {
     "name": "stderr",
     "output_type": "stream",
     "text": [
      "\r",
      "                                                                                \r"
     ]
    }
   ],
   "source": [
    "# sorting in descending order\n",
    "sortedWordCounts= wordCounts.sortBy(lambda x: x[1], ascending=False)\n",
    "\n",
    "# taking the top 50 words with the highest counts\n",
    "topWords= sortedWordCounts.take(50)\n",
    "\n",
    "topWords"
   ]
  },
  {
   "cell_type": "code",
   "execution_count": 88,
   "id": "ddb4b2cb",
   "metadata": {
    "scrolled": true
   },
   "outputs": [
    {
     "data": {
      "text/plain": [
       "['going',\n",
       " 'about',\n",
       " \"don't\",\n",
       " 'really',\n",
       " \"can't\",\n",
       " 'still',\n",
       " '&amp;',\n",
       " 'think',\n",
       " 'today',\n",
       " 'thanks',\n",
       " 'there',\n",
       " 'night',\n",
       " 'great',\n",
       " 'would',\n",
       " 'getting',\n",
       " 'twitter',\n",
       " 'happy',\n",
       " 'gonna',\n",
       " 'watching',\n",
       " 'morning',\n",
       " 'should',\n",
       " 'right',\n",
       " \"that's\",\n",
       " 'could',\n",
       " \"didn't\",\n",
       " 'sorry',\n",
       " 'tomorrow',\n",
       " \"you're\",\n",
       " 'sleep',\n",
       " 'after',\n",
       " 'better',\n",
       " 'thank',\n",
       " 'never',\n",
       " 'people',\n",
       " 'again',\n",
       " 'wanna',\n",
       " 'little',\n",
       " 'having',\n",
       " 'being',\n",
       " 'first',\n",
       " 'school',\n",
       " 'watch',\n",
       " 'doing',\n",
       " 'working',\n",
       " 'feeling',\n",
       " 'always',\n",
       " 'another',\n",
       " 'tonight',\n",
       " 'though',\n",
       " 'because']"
      ]
     },
     "execution_count": 88,
     "metadata": {},
     "output_type": "execute_result"
    }
   ],
   "source": [
    "# getting a simple list from the 2-dimensional list of tuples topWords, with words with highest count and potential to be removed. Getting first element from all tuples\n",
    "topWordsRemoval = [i[0] for i in topWords][0:]\n",
    "topWordsRemoval"
   ]
  },
  {
   "cell_type": "code",
   "execution_count": 93,
   "id": "039e8cc4",
   "metadata": {},
   "outputs": [
    {
     "data": {
      "text/plain": [
       "['going',\n",
       " 'about',\n",
       " 'still',\n",
       " '&amp;',\n",
       " 'think',\n",
       " 'today',\n",
       " 'there',\n",
       " 'night',\n",
       " 'would',\n",
       " 'twitter',\n",
       " 'gonna',\n",
       " 'watching',\n",
       " 'morning',\n",
       " \"that's\",\n",
       " 'tomorrow',\n",
       " \"you're\",\n",
       " 'sleep',\n",
       " 'after',\n",
       " 'people',\n",
       " 'wanna',\n",
       " 'little',\n",
       " 'having',\n",
       " 'being',\n",
       " 'first',\n",
       " 'school',\n",
       " 'watch',\n",
       " 'doing',\n",
       " 'working',\n",
       " 'always',\n",
       " 'another',\n",
       " 'tonight',\n",
       " 'though',\n",
       " 'because']"
      ]
     },
     "execution_count": 93,
     "metadata": {},
     "output_type": "execute_result"
    }
   ],
   "source": [
    "# removing words with potential impact on sentiment score from the list before\n",
    "wordsToRemove = [i for idx, i in enumerate(topWordsRemoval) if idx not in [2, 3, 4, 9, 12, 14, 16, 20, 21, 23, 24, 25, 30, 31, 32, 34, 44]]\n",
    "wordsToRemove"
   ]
  },
  {
   "cell_type": "code",
   "execution_count": 43,
   "id": "3d0d37d7",
   "metadata": {
    "scrolled": true
   },
   "outputs": [
    {
     "name": "stderr",
     "output_type": "stream",
     "text": [
      "\r",
      "[Stage 177:===================>                                     (1 + 1) / 3]\r"
     ]
    },
    {
     "name": "stdout",
     "output_type": "stream",
     "text": [
      ",only  -  1\n",
      "premiere?!  -  1\n",
      "snyder's  -  1\n",
      "doucheclown.  -  1\n",
      "twanking  -  1\n",
      "uids?  -  1\n",
      "www.diigo.com/~tautao  -  1\n",
      "acm's?!  -  1\n",
      "men?!?!?  -  1\n",
      "'blood  -  1\n",
      "makakasama  -  1\n",
      "wagah  -  1\n",
      "noodlebox  -  1\n",
      "yourself...we  -  1\n",
      "crunches!  -  1\n",
      "nikster...  -  1\n",
      "awesome&lt;3  -  1\n",
      "shorts.......and  -  1\n",
      "asba's  -  1\n",
      "hopin..  -  1\n",
      "-lauren  -  1\n",
      "16-mo-old  -  1\n",
      "agh...snow!!!  -  1\n",
      "peddies  -  1\n",
      "freezer-worthy  -  1\n",
      "(shit,  -  1\n",
      "9th&amp;10th  -  1\n",
      "shhhhhhhhhh....time  -  1\n",
      "sietar...  -  1\n",
      "manual...  -  1\n",
      "phantasy  -  1\n",
      "house...house  -  1\n",
      "letters,too.hope  -  1\n",
      "fine?i  -  1\n",
      "dog,sheï¿½s  -  1\n",
      "wiggety-whack.  -  1\n",
      ":*(:*(:*(  -  1\n",
      "match....reached  -  1\n",
      "roflmao...  -  1\n",
      "ackin'  -  1\n",
      "we....  -  1\n",
      "x:drive  -  1\n",
      "please?:  -  1\n",
      "heah!  -  1\n",
      "more!the  -  1\n",
      "unison&amp;  -  1\n",
      "babiiesss  -  1\n",
      "grebel  -  1\n",
      "*thats  -  1\n",
      "tuesdayï¿½ll  -  1\n"
     ]
    },
    {
     "name": "stderr",
     "output_type": "stream",
     "text": [
      "\r",
      "                                                                                \r"
     ]
    }
   ],
   "source": [
    "#checking rare words, excluding URLs,@ and #\n",
    "rareWords= sortedWordCounts.top(50, key=lambda x: -x[1] if not (x[0].startswith(\"http://\") or x[0].startswith(\"@\") or x[0].startswith(\"#\")) else float(\"-inf\"))\n",
    "\n",
    "# Printing the top words\n",
    "for word, count in rareWords:\n",
    "    print(word,' - ',count)"
   ]
  },
  {
   "cell_type": "markdown",
   "id": "4a6e84f7",
   "metadata": {},
   "source": [
    "### checking hashtags"
   ]
  },
  {
   "cell_type": "code",
   "execution_count": 44,
   "id": "3ff426b5",
   "metadata": {},
   "outputs": [],
   "source": [
    "#extracting hashtags from the tweets, splitting text with single space, considering words which start with #\n",
    "hashtagsRdd = tweetsRdd.flatMap(lambda tweet: tweet[4].split(\" \")).filter(lambda word: word.startswith(\"#\")) # flatMap flattens the RDD after applying the function on column 4 (text). Returns one single collection instead of a collection of collections (like one dimension)\n",
    "\n",
    "# counting totals per hashtag, case insensitive with .lower()\n",
    "hashtagsTotal= hashtagsRdd.map(lambda hashtag: (hashtag.lower(), 1)).reduceByKey(lambda a, b: a + b)"
   ]
  },
  {
   "cell_type": "code",
   "execution_count": 45,
   "id": "0fa87bc8",
   "metadata": {},
   "outputs": [
    {
     "name": "stderr",
     "output_type": "stream",
     "text": [
      "                                                                                \r"
     ]
    }
   ],
   "source": [
    "#top 50 hashtags\n",
    "topHashtags= hashtagsTotal.takeOrdered(50, key=lambda x: -x[1])"
   ]
  },
  {
   "cell_type": "code",
   "execution_count": 46,
   "id": "96db915a",
   "metadata": {
    "scrolled": false
   },
   "outputs": [
    {
     "data": {
      "text/plain": [
       "[('#followfriday', 2286),\n",
       " ('#fb', 1762),\n",
       " ('#squarespace', 866),\n",
       " ('#ff', 822),\n",
       " ('#seb-day', 498),\n",
       " ('#iranelection', 485),\n",
       " ('#', 472),\n",
       " ('#musicmonday', 396),\n",
       " ('#1', 391),\n",
       " ('#fail', 343),\n",
       " ('#asot400', 320),\n",
       " ('#iphone', 296),\n",
       " ('#iremember', 293),\n",
       " ('#bsb', 288),\n",
       " ('#myweakness', 262),\n",
       " ('#marsiscoming', 255),\n",
       " ('#f1', 244),\n",
       " ('#bgt', 236),\n",
       " ('#e3', 232),\n",
       " ('#mcflyforgermany', 230),\n",
       " ('#2', 214),\n",
       " ('#andyhurleyday', 187),\n",
       " ('#inaperfectworld', 172),\n",
       " ('#haveyouever', 168),\n",
       " ('#delongeday', 164),\n",
       " ('#mileymonday', 160),\n",
       " ('#spymaster', 156),\n",
       " ('#tcot', 155),\n",
       " ('#trackle', 155),\n",
       " ('#followfriday!', 141),\n",
       " ('#goodsex', 120),\n",
       " ('#chuckmemondays', 110),\n",
       " ('#hhrs', 105),\n",
       " ('#xboxe3', 104),\n",
       " ('#dontyouhate', 104),\n",
       " ('#mmwanted', 102),\n",
       " ('#bradiewebb', 102),\n",
       " ('#clothdiapers', 102),\n",
       " ('#twitter', 102),\n",
       " ('#flylady', 96),\n",
       " (\"#tag'\", 92),\n",
       " ('#chesterday', 92),\n",
       " ('#asylm', 92),\n",
       " ('#eu09', 90),\n",
       " ('#follow', 89),\n",
       " ('#bts', 88),\n",
       " ('#tweetdeck', 86),\n",
       " ('#shortstack', 86),\n",
       " ('#hoppusday', 84),\n",
       " ('#andyclemmensen', 84)]"
      ]
     },
     "execution_count": 46,
     "metadata": {},
     "output_type": "execute_result"
    }
   ],
   "source": [
    "topHashtags"
   ]
  },
  {
   "cell_type": "code",
   "execution_count": null,
   "id": "487bfd78",
   "metadata": {},
   "outputs": [],
   "source": []
  },
  {
   "cell_type": "code",
   "execution_count": null,
   "id": "fe2611f3",
   "metadata": {},
   "outputs": [],
   "source": []
  },
  {
   "cell_type": "code",
   "execution_count": 47,
   "id": "5275e974",
   "metadata": {},
   "outputs": [
    {
     "name": "stderr",
     "output_type": "stream",
     "text": [
      "                                                                                \r"
     ]
    },
    {
     "data": {
      "text/plain": [
       "850081"
      ]
     },
     "execution_count": 47,
     "metadata": {},
     "output_type": "execute_result"
    }
   ],
   "source": [
    "#Checking the number of numerics. flatMap applys a function to all elements and returns one single collection\n",
    "tweetsRdd.flatMap(lambda row: list(filter(lambda char: char.isdigit(), row.text))).count() # filterring out numeric characters"
   ]
  },
  {
   "cell_type": "markdown",
   "id": "9fafcb1c",
   "metadata": {},
   "source": [
    "#### Number of stopwords"
   ]
  },
  {
   "cell_type": "code",
   "execution_count": 49,
   "id": "981b5839",
   "metadata": {},
   "outputs": [],
   "source": [
    "import nltk\n",
    "from nltk.corpus import stopwords\n",
    "#nltk.download('stopwords')"
   ]
  },
  {
   "cell_type": "code",
   "execution_count": 50,
   "id": "e9fffc9d",
   "metadata": {},
   "outputs": [
    {
     "name": "stderr",
     "output_type": "stream",
     "text": [
      "                                                                                \r"
     ]
    },
    {
     "data": {
      "text/plain": [
       "8093693"
      ]
     },
     "execution_count": 50,
     "metadata": {},
     "output_type": "execute_result"
    }
   ],
   "source": [
    "#getting stopwords for English language\n",
    "stopwordsBag= set(stopwords.words('english'))\n",
    "\n",
    "#splitting text field to single words, filterring stopwords only and counting them\n",
    "tweetsRdd.flatMap(lambda row: row.text.lower().split()).filter(lambda word: word in stopwordsBag).count() # flatMap returns one single collection instead of a collection of collections (like one dimension)"
   ]
  },
  {
   "cell_type": "code",
   "execution_count": 51,
   "id": "4f332237",
   "metadata": {
    "scrolled": true
   },
   "outputs": [
    {
     "name": "stderr",
     "output_type": "stream",
     "text": [
      "                                                                                \r"
     ]
    },
    {
     "data": {
      "text/plain": [
       "27809083"
      ]
     },
     "execution_count": 51,
     "metadata": {},
     "output_type": "execute_result"
    }
   ],
   "source": [
    "#number of special characters\n",
    "#filterring out non-alphanumeric characters. isalnum() returns True if all characters in the string are alphanumeric. Creating a new list convert them into a list.\n",
    "tweetsRdd.flatMap(lambda row: list(filter(lambda char: not char.isalnum(), row.text))).count()"
   ]
  },
  {
   "cell_type": "code",
   "execution_count": null,
   "id": "41b3d306",
   "metadata": {},
   "outputs": [],
   "source": []
  },
  {
   "cell_type": "markdown",
   "id": "d0ce939e",
   "metadata": {},
   "source": [
    "#### data CLEANING"
   ]
  },
  {
   "cell_type": "code",
   "execution_count": 100,
   "id": "831a5d30",
   "metadata": {
    "scrolled": true
   },
   "outputs": [],
   "source": [
    "import re # regular expressions\n",
    "from pyspark.ml.feature import StopWordsRemover\n",
    "from nltk.tokenize import word_tokenize\n",
    "from nltk.stem import WordNetLemmatizer\n",
    "from textblob import TextBlob\n",
    "from pyspark.sql import Row\n",
    "# nltk.download('stopwords')\n",
    "# nltk.download('punkt')\n",
    "# nltk.download('wordnet')"
   ]
  },
  {
   "cell_type": "code",
   "execution_count": 62,
   "id": "d937aee5",
   "metadata": {},
   "outputs": [],
   "source": [
    "# stopwords for English\n",
    "stopwords = set(stopwords.words('english'))"
   ]
  },
  {
   "cell_type": "code",
   "execution_count": 109,
   "id": "8629723a",
   "metadata": {},
   "outputs": [],
   "source": [
    "# Cleaning up tweets\n",
    "def clean_text(row):\n",
    "    \n",
    "    #selecting the column text\n",
    "    text = row.text\n",
    "\n",
    "    # multiple regex combined with | (OR) to remove URLs, hashtags, user mentions, special characters (except aprostrophes between 'n' & 't' so that textBlob handles negations correctly), single characters and extra white spaces\n",
    "    # combined in one line of code to improve performance\n",
    "    text = re.sub(r'http\\S+|www\\S+|#\\w+|@\\w+|[^a-zA-Z0-9]|(?<!n)\\'(?!t)|\\s+|\\b\\w\\b', ' ', text)\n",
    "\n",
    "\n",
    "    #tokenizing text into words\n",
    "    tokens = word_tokenize(text)\n",
    "\n",
    "    # removing stopwords, common words and making it lower case\n",
    "    woTokens = [token.lower() for token in tokens if token.lower() not in stopwords and token.lower() not in wordsToRemove]\n",
    "\n",
    "    \n",
    "    # spelling correction\n",
    "    corrected_tokens = [str(TextBlob(token).correct()) for token in woTokens]\n",
    "\n",
    "    # lemmatizing words\n",
    "    lemmatizer = WordNetLemmatizer()\n",
    "    lemmatized_tokens = [lemmatizer.lemmatize(token) for token in corrected_tokens]\n",
    "\n",
    "    # joining tokens back\n",
    "    cleaned_text = ' '.join(lemmatized_tokens)\n",
    "\n",
    "    return Row(id=row.id, date=row.date, user=row.user, text=cleaned_text)"
   ]
  },
  {
   "cell_type": "code",
   "execution_count": null,
   "id": "ed16b4d8",
   "metadata": {},
   "outputs": [],
   "source": []
  },
  {
   "cell_type": "code",
   "execution_count": 111,
   "id": "06f19d4b",
   "metadata": {},
   "outputs": [],
   "source": [
    "# applying function to the RDD\n",
    "cleanedRdd = tweetsRdd.map(clean_text)"
   ]
  },
  {
   "cell_type": "code",
   "execution_count": 119,
   "id": "27df2cf8",
   "metadata": {
    "scrolled": true
   },
   "outputs": [
    {
     "name": "stderr",
     "output_type": "stream",
     "text": [
      "\r",
      "[Stage 244:>                                                        (0 + 1) / 1]\r"
     ]
    },
    {
     "name": "stdout",
     "output_type": "stream",
     "text": [
      "summer should got david care third day\n",
      "upset update facebook testing might cry result also bah\n",
      "dived many time ball managed save 50 rest go bound\n",
      "whole body feel itchy like fire\n",
      "behaving mad see\n",
      "whole crew\n",
      "need hug\n",
      "hey long time see yes rain bit bit ll fine thanks\n",
      "hope\n",
      "que mere\n",
      "spring break plain city showing\n",
      "pierced ear\n",
      "bear thought a loss embarrassing\n",
      "count ink either never talk anymore\n",
      "wish got miss premier\n",
      "gun really sac under doucheclown\n",
      "holmes death scene hurt severely film wry director cut\n",
      "file tax\n",
      "ah give wanted see rent love soundtrack\n",
      "oh dear drinking forgotten table drink\n",
      "day get much done\n",
      "one friend called asked meet mid valley time sigh\n",
      "baked cake acted\n",
      "week hoped\n",
      "black class\n",
      "hate call wake\n",
      "cry barley\n",
      "in sad miss silly\n",
      "oooh ll leslie ok leslie get mad\n",
      "me almost lover exception track get depressed every time\n",
      "want go promote gear groove unfortunately ride may one anaheim may\n",
      "some hacked account aim make new one\n",
      "thought sleeping option realizing evaluation work afternoon\n",
      "awe love miss\n",
      "ok sick spent hour sitting shower cause sick stand held back pure like champ bed\n",
      "cry asia eye\n",
      "ill tell a story later good day ill working like three hour\n",
      "sorry bed time came get\n",
      "either depressing even want know kiss suitcase\n",
      "really feel like getting got study tomorrow practical exam\n",
      "bed class 12 work 12 grm class 10 day on na fly miss girlfriend\n",
      "reason teardrop guitar one enough break heart\n",
      "sad sad sad know hate feeling wan na\n",
      "www so wish see finally comfortable in sad missed\n",
      "falling asleep heard trace girl body found sad heart break family\n",
      "may happy job also mean le time\n",
      "checked user timeline blackberry look like thanking happening pp probe bag lid\n",
      "oh man droning have top wear meeting burnt\n",
      "strangely sad lily sacro breaking\n",
      "broadband plan massive broken promise via waiting broadband\n"
     ]
    },
    {
     "name": "stderr",
     "output_type": "stream",
     "text": [
      "\r",
      "                                                                                \r"
     ]
    }
   ],
   "source": [
    "# sample of 50 tweets\n",
    "for row in cleanedRdd.take(50):\n",
    "    print(row.text)"
   ]
  },
  {
   "cell_type": "markdown",
   "id": "84724c73",
   "metadata": {},
   "source": [
    "### Assigning a sentiment score"
   ]
  },
  {
   "cell_type": "code",
   "execution_count": 120,
   "id": "cc79b331",
   "metadata": {},
   "outputs": [],
   "source": [
    "#!pip install textblob"
   ]
  },
  {
   "cell_type": "code",
   "execution_count": null,
   "id": "864c2b68",
   "metadata": {},
   "outputs": [],
   "source": []
  },
  {
   "cell_type": "code",
   "execution_count": 121,
   "id": "009491b2",
   "metadata": {},
   "outputs": [],
   "source": [
    "def sentimentScore(row):\n",
    "    \n",
    "    text = row.text\n",
    "    \n",
    "\n",
    "    # Creating TextBlob object\n",
    "    blob = TextBlob(text)\n",
    "\n",
    "    # Getting polarity score\n",
    "    polarity = blob.sentiment.polarity\n",
    "\n",
    "    # Updating row with sentiment score\n",
    "    return Row(id=row.id, date=row.date, user=row.user, text=row.text, sentimentScore=polarity)"
   ]
  },
  {
   "cell_type": "code",
   "execution_count": 122,
   "id": "718db703",
   "metadata": {},
   "outputs": [],
   "source": [
    "#applying function\n",
    "sentimentRdd = cleanedRdd.map(sentimentScore)"
   ]
  },
  {
   "cell_type": "code",
   "execution_count": 123,
   "id": "c9c8a531",
   "metadata": {
    "scrolled": true
   },
   "outputs": [
    {
     "name": "stderr",
     "output_type": "stream",
     "text": [
      "                                                                                \r"
     ]
    },
    {
     "data": {
      "text/plain": [
       "Row(id='1467810369', date=datetime.datetime(2009, 4, 7, 6, 19, 45), user='_TheSpecialOne_', text='summer should got david care third day', sentimentScore=0.0)"
      ]
     },
     "execution_count": 123,
     "metadata": {},
     "output_type": "execute_result"
    }
   ],
   "source": [
    "sentimentRdd.first()"
   ]
  },
  {
   "cell_type": "code",
   "execution_count": 125,
   "id": "9376f185",
   "metadata": {},
   "outputs": [],
   "source": [
    "start_time = datetime.now()"
   ]
  },
  {
   "cell_type": "code",
   "execution_count": null,
   "id": "a9df2e07",
   "metadata": {
    "scrolled": true
   },
   "outputs": [
    {
     "name": "stderr",
     "output_type": "stream",
     "text": [
      "[Stage 250:>                (0 + 1) / 3][Stage 251:>                (0 + 0) / 3]\r"
     ]
    }
   ],
   "source": [
    "# number of tweets\n",
    "tweetsNumber = sentimentRdd.count()\n",
    "\n",
    "\n",
    "#tweets with score > 0.3 (+ sentiment)\n",
    "positiveTweets = sentimentRdd.filter(lambda row: row.sentimentScore > 0.33).count()\n",
    "\n",
    "# tweets with score < -0.3 (- sentiment)\n",
    "negativeTweets = sentimentRdd.filter(lambda row: row.sentimentScore < -0.33).count()\n",
    "\n",
    "\n",
    "# proportions\n",
    "positivePercent = (positiveTweets / tweetsNumber)*100\n",
    "negativePercent = (negativeTweets / tweetsNumber)*100"
   ]
  },
  {
   "cell_type": "code",
   "execution_count": null,
   "id": "4de3765b",
   "metadata": {},
   "outputs": [],
   "source": [
    "end_time = datetime.now()\n",
    "end_time - start_time"
   ]
  },
  {
   "cell_type": "code",
   "execution_count": null,
   "id": "1ddf9b3a",
   "metadata": {
    "scrolled": false
   },
   "outputs": [],
   "source": [
    "print(round(positivePercent,1),'% of tweets with positive sentiment')\n",
    "print(round(negativePercent,1),'% of tweets with negative sentiment')\n",
    "print(round(100-positivePercent-negativePercent,1),'% of tweets with neutral sentiment')"
   ]
  },
  {
   "cell_type": "code",
   "execution_count": null,
   "id": "f4c1a747",
   "metadata": {},
   "outputs": [],
   "source": []
  },
  {
   "cell_type": "code",
   "execution_count": null,
   "id": "c319370a",
   "metadata": {},
   "outputs": [],
   "source": []
  },
  {
   "cell_type": "markdown",
   "id": "cf03b6dd",
   "metadata": {},
   "source": [
    "## YCSB"
   ]
  },
  {
   "cell_type": "code",
   "execution_count": 35,
   "id": "fa605579",
   "metadata": {},
   "outputs": [
    {
     "data": {
      "text/html": [
       "<div>\n",
       "<style scoped>\n",
       "    .dataframe tbody tr th:only-of-type {\n",
       "        vertical-align: middle;\n",
       "    }\n",
       "\n",
       "    .dataframe tbody tr th {\n",
       "        vertical-align: top;\n",
       "    }\n",
       "\n",
       "    .dataframe thead th {\n",
       "        text-align: right;\n",
       "    }\n",
       "</style>\n",
       "<table border=\"1\" class=\"dataframe\">\n",
       "  <thead>\n",
       "    <tr style=\"text-align: right;\">\n",
       "      <th></th>\n",
       "      <th>MongoDB</th>\n",
       "      <th>units</th>\n",
       "      <th>wa-1k</th>\n",
       "      <th>wa-5k</th>\n",
       "      <th>wa-10k</th>\n",
       "      <th>wa-20k</th>\n",
       "      <th>wa-50k</th>\n",
       "      <th>wb-1k</th>\n",
       "      <th>wb-5k</th>\n",
       "      <th>wb-10k</th>\n",
       "      <th>wb-20k</th>\n",
       "      <th>wb-50k</th>\n",
       "    </tr>\n",
       "  </thead>\n",
       "  <tbody>\n",
       "    <tr>\n",
       "      <th>0</th>\n",
       "      <td>[OVERALL]</td>\n",
       "      <td>RunTime(ms)</td>\n",
       "      <td>1121.00000</td>\n",
       "      <td>3864.000000</td>\n",
       "      <td>2010.000000</td>\n",
       "      <td>2470.000000</td>\n",
       "      <td>4571.00000</td>\n",
       "      <td>1076.00000</td>\n",
       "      <td>3727.000000</td>\n",
       "      <td>1891.000000</td>\n",
       "      <td>2597.000000</td>\n",
       "      <td>4458.00000</td>\n",
       "    </tr>\n",
       "    <tr>\n",
       "      <th>1</th>\n",
       "      <td>[OVERALL]</td>\n",
       "      <td>Throughput(ops/sec)</td>\n",
       "      <td>892.06066</td>\n",
       "      <td>1293.995859</td>\n",
       "      <td>4975.124378</td>\n",
       "      <td>8097.165992</td>\n",
       "      <td>10938.52549</td>\n",
       "      <td>929.36803</td>\n",
       "      <td>1341.561578</td>\n",
       "      <td>5288.207298</td>\n",
       "      <td>7701.193685</td>\n",
       "      <td>11215.79183</td>\n",
       "    </tr>\n",
       "    <tr>\n",
       "      <th>2</th>\n",
       "      <td>[TOTAL_GCS_Copy]</td>\n",
       "      <td>Count</td>\n",
       "      <td>0.00000</td>\n",
       "      <td>1.000000</td>\n",
       "      <td>3.000000</td>\n",
       "      <td>5.000000</td>\n",
       "      <td>12.00000</td>\n",
       "      <td>0.00000</td>\n",
       "      <td>1.000000</td>\n",
       "      <td>3.000000</td>\n",
       "      <td>5.000000</td>\n",
       "      <td>12.00000</td>\n",
       "    </tr>\n",
       "    <tr>\n",
       "      <th>3</th>\n",
       "      <td>[TOTAL_GC_TIME_Copy]</td>\n",
       "      <td>Time(ms)</td>\n",
       "      <td>0.00000</td>\n",
       "      <td>21.000000</td>\n",
       "      <td>15.000000</td>\n",
       "      <td>15.000000</td>\n",
       "      <td>17.00000</td>\n",
       "      <td>0.00000</td>\n",
       "      <td>16.000000</td>\n",
       "      <td>14.000000</td>\n",
       "      <td>19.000000</td>\n",
       "      <td>19.00000</td>\n",
       "    </tr>\n",
       "    <tr>\n",
       "      <th>4</th>\n",
       "      <td>[TOTAL_GC_TIME_%_Copy]</td>\n",
       "      <td>Time(%)</td>\n",
       "      <td>0.00000</td>\n",
       "      <td>0.543478</td>\n",
       "      <td>0.746269</td>\n",
       "      <td>0.607287</td>\n",
       "      <td>0.37191</td>\n",
       "      <td>0.00000</td>\n",
       "      <td>0.429300</td>\n",
       "      <td>0.740349</td>\n",
       "      <td>0.731613</td>\n",
       "      <td>0.42620</td>\n",
       "    </tr>\n",
       "    <tr>\n",
       "      <th>5</th>\n",
       "      <td>[TOTAL_GCS_MarkSweepCompact]</td>\n",
       "      <td>Count</td>\n",
       "      <td>0.00000</td>\n",
       "      <td>0.000000</td>\n",
       "      <td>0.000000</td>\n",
       "      <td>0.000000</td>\n",
       "      <td>0.00000</td>\n",
       "      <td>0.00000</td>\n",
       "      <td>0.000000</td>\n",
       "      <td>0.000000</td>\n",
       "      <td>0.000000</td>\n",
       "      <td>0.00000</td>\n",
       "    </tr>\n",
       "    <tr>\n",
       "      <th>6</th>\n",
       "      <td>[TOTAL_GC_TIME_MarkSweepCompact]</td>\n",
       "      <td>Time(ms)</td>\n",
       "      <td>0.00000</td>\n",
       "      <td>0.000000</td>\n",
       "      <td>0.000000</td>\n",
       "      <td>0.000000</td>\n",
       "      <td>0.00000</td>\n",
       "      <td>0.00000</td>\n",
       "      <td>0.000000</td>\n",
       "      <td>0.000000</td>\n",
       "      <td>0.000000</td>\n",
       "      <td>0.00000</td>\n",
       "    </tr>\n",
       "    <tr>\n",
       "      <th>7</th>\n",
       "      <td>[TOTAL_GC_TIME_%_MarkSweepCompact]</td>\n",
       "      <td>Time(%)</td>\n",
       "      <td>0.00000</td>\n",
       "      <td>0.000000</td>\n",
       "      <td>0.000000</td>\n",
       "      <td>0.000000</td>\n",
       "      <td>0.00000</td>\n",
       "      <td>0.00000</td>\n",
       "      <td>0.000000</td>\n",
       "      <td>0.000000</td>\n",
       "      <td>0.000000</td>\n",
       "      <td>0.00000</td>\n",
       "    </tr>\n",
       "    <tr>\n",
       "      <th>8</th>\n",
       "      <td>[TOTAL_GCs]</td>\n",
       "      <td>Count</td>\n",
       "      <td>0.00000</td>\n",
       "      <td>1.000000</td>\n",
       "      <td>3.000000</td>\n",
       "      <td>5.000000</td>\n",
       "      <td>12.00000</td>\n",
       "      <td>0.00000</td>\n",
       "      <td>1.000000</td>\n",
       "      <td>3.000000</td>\n",
       "      <td>5.000000</td>\n",
       "      <td>12.00000</td>\n",
       "    </tr>\n",
       "    <tr>\n",
       "      <th>9</th>\n",
       "      <td>[TOTAL_GC_TIME]</td>\n",
       "      <td>Time(ms)</td>\n",
       "      <td>0.00000</td>\n",
       "      <td>21.000000</td>\n",
       "      <td>15.000000</td>\n",
       "      <td>15.000000</td>\n",
       "      <td>17.00000</td>\n",
       "      <td>0.00000</td>\n",
       "      <td>16.000000</td>\n",
       "      <td>14.000000</td>\n",
       "      <td>19.000000</td>\n",
       "      <td>19.00000</td>\n",
       "    </tr>\n",
       "    <tr>\n",
       "      <th>10</th>\n",
       "      <td>[TOTAL_GC_TIME_%]</td>\n",
       "      <td>Time(%)</td>\n",
       "      <td>0.00000</td>\n",
       "      <td>0.543478</td>\n",
       "      <td>0.746269</td>\n",
       "      <td>0.607287</td>\n",
       "      <td>0.37191</td>\n",
       "      <td>0.00000</td>\n",
       "      <td>0.429300</td>\n",
       "      <td>0.740349</td>\n",
       "      <td>0.731613</td>\n",
       "      <td>0.42620</td>\n",
       "    </tr>\n",
       "    <tr>\n",
       "      <th>11</th>\n",
       "      <td>[CLEANUP]</td>\n",
       "      <td>Operations</td>\n",
       "      <td>1.00000</td>\n",
       "      <td>1.000000</td>\n",
       "      <td>1.000000</td>\n",
       "      <td>1.000000</td>\n",
       "      <td>1.00000</td>\n",
       "      <td>1.00000</td>\n",
       "      <td>1.000000</td>\n",
       "      <td>1.000000</td>\n",
       "      <td>1.000000</td>\n",
       "      <td>1.00000</td>\n",
       "    </tr>\n",
       "    <tr>\n",
       "      <th>12</th>\n",
       "      <td>[CLEANUP]</td>\n",
       "      <td>AverageLatency(us)</td>\n",
       "      <td>1699.00000</td>\n",
       "      <td>9012.000000</td>\n",
       "      <td>3985.000000</td>\n",
       "      <td>1478.000000</td>\n",
       "      <td>3131.00000</td>\n",
       "      <td>1735.00000</td>\n",
       "      <td>1815.000000</td>\n",
       "      <td>1867.000000</td>\n",
       "      <td>1536.000000</td>\n",
       "      <td>1231.00000</td>\n",
       "    </tr>\n",
       "    <tr>\n",
       "      <th>13</th>\n",
       "      <td>[CLEANUP]</td>\n",
       "      <td>MinLatency(us)</td>\n",
       "      <td>1699.00000</td>\n",
       "      <td>9008.000000</td>\n",
       "      <td>3984.000000</td>\n",
       "      <td>1478.000000</td>\n",
       "      <td>3130.00000</td>\n",
       "      <td>1735.00000</td>\n",
       "      <td>1815.000000</td>\n",
       "      <td>1867.000000</td>\n",
       "      <td>1536.000000</td>\n",
       "      <td>1231.00000</td>\n",
       "    </tr>\n",
       "    <tr>\n",
       "      <th>14</th>\n",
       "      <td>[CLEANUP]</td>\n",
       "      <td>MaxLatency(us)</td>\n",
       "      <td>1699.00000</td>\n",
       "      <td>9015.000000</td>\n",
       "      <td>3985.000000</td>\n",
       "      <td>1478.000000</td>\n",
       "      <td>3131.00000</td>\n",
       "      <td>1735.00000</td>\n",
       "      <td>1815.000000</td>\n",
       "      <td>1867.000000</td>\n",
       "      <td>1536.000000</td>\n",
       "      <td>1231.00000</td>\n",
       "    </tr>\n",
       "    <tr>\n",
       "      <th>15</th>\n",
       "      <td>[CLEANUP]</td>\n",
       "      <td>95thPercentileLatency(us)</td>\n",
       "      <td>1699.00000</td>\n",
       "      <td>9015.000000</td>\n",
       "      <td>3985.000000</td>\n",
       "      <td>1478.000000</td>\n",
       "      <td>3131.00000</td>\n",
       "      <td>1735.00000</td>\n",
       "      <td>1815.000000</td>\n",
       "      <td>1867.000000</td>\n",
       "      <td>1536.000000</td>\n",
       "      <td>1231.00000</td>\n",
       "    </tr>\n",
       "    <tr>\n",
       "      <th>16</th>\n",
       "      <td>[CLEANUP]</td>\n",
       "      <td>99thPercentileLatency(us)</td>\n",
       "      <td>1699.00000</td>\n",
       "      <td>9015.000000</td>\n",
       "      <td>3985.000000</td>\n",
       "      <td>1478.000000</td>\n",
       "      <td>3131.00000</td>\n",
       "      <td>1735.00000</td>\n",
       "      <td>1815.000000</td>\n",
       "      <td>1867.000000</td>\n",
       "      <td>1536.000000</td>\n",
       "      <td>1231.00000</td>\n",
       "    </tr>\n",
       "    <tr>\n",
       "      <th>17</th>\n",
       "      <td>[INSERT]</td>\n",
       "      <td>Operations</td>\n",
       "      <td>1000.00000</td>\n",
       "      <td>5000.000000</td>\n",
       "      <td>10000.000000</td>\n",
       "      <td>20000.000000</td>\n",
       "      <td>50000.00000</td>\n",
       "      <td>1000.00000</td>\n",
       "      <td>5000.000000</td>\n",
       "      <td>10000.000000</td>\n",
       "      <td>20000.000000</td>\n",
       "      <td>50000.00000</td>\n",
       "    </tr>\n",
       "    <tr>\n",
       "      <th>18</th>\n",
       "      <td>[INSERT]</td>\n",
       "      <td>AverageLatency(us)</td>\n",
       "      <td>514.00100</td>\n",
       "      <td>484.289400</td>\n",
       "      <td>134.992200</td>\n",
       "      <td>89.623600</td>\n",
       "      <td>74.17878</td>\n",
       "      <td>526.42700</td>\n",
       "      <td>430.802000</td>\n",
       "      <td>122.470400</td>\n",
       "      <td>93.916650</td>\n",
       "      <td>74.91272</td>\n",
       "    </tr>\n",
       "    <tr>\n",
       "      <th>19</th>\n",
       "      <td>[INSERT]</td>\n",
       "      <td>MinLatency(us)</td>\n",
       "      <td>62.00000</td>\n",
       "      <td>39.000000</td>\n",
       "      <td>29.000000</td>\n",
       "      <td>28.000000</td>\n",
       "      <td>23.00000</td>\n",
       "      <td>63.00000</td>\n",
       "      <td>41.000000</td>\n",
       "      <td>28.000000</td>\n",
       "      <td>29.000000</td>\n",
       "      <td>22.00000</td>\n",
       "    </tr>\n",
       "    <tr>\n",
       "      <th>20</th>\n",
       "      <td>[INSERT]</td>\n",
       "      <td>MaxLatency(us)</td>\n",
       "      <td>108287.00000</td>\n",
       "      <td>184063.000000</td>\n",
       "      <td>140543.000000</td>\n",
       "      <td>127231.000000</td>\n",
       "      <td>111487.00000</td>\n",
       "      <td>79935.00000</td>\n",
       "      <td>190847.000000</td>\n",
       "      <td>142719.000000</td>\n",
       "      <td>124351.000000</td>\n",
       "      <td>91007.00000</td>\n",
       "    </tr>\n",
       "    <tr>\n",
       "      <th>21</th>\n",
       "      <td>[INSERT]</td>\n",
       "      <td>95thPercentileLatency(us)</td>\n",
       "      <td>1886.00000</td>\n",
       "      <td>2783.000000</td>\n",
       "      <td>244.000000</td>\n",
       "      <td>115.000000</td>\n",
       "      <td>95.00000</td>\n",
       "      <td>1956.00000</td>\n",
       "      <td>2401.000000</td>\n",
       "      <td>178.000000</td>\n",
       "      <td>126.000000</td>\n",
       "      <td>98.00000</td>\n",
       "    </tr>\n",
       "    <tr>\n",
       "      <th>22</th>\n",
       "      <td>[INSERT]</td>\n",
       "      <td>99thPercentileLatency(us)</td>\n",
       "      <td>4571.00000</td>\n",
       "      <td>6811.000000</td>\n",
       "      <td>2347.000000</td>\n",
       "      <td>1400.000000</td>\n",
       "      <td>1061.00000</td>\n",
       "      <td>5243.00000</td>\n",
       "      <td>6251.000000</td>\n",
       "      <td>2131.000000</td>\n",
       "      <td>1652.000000</td>\n",
       "      <td>1037.00000</td>\n",
       "    </tr>\n",
       "    <tr>\n",
       "      <th>23</th>\n",
       "      <td>[INSERT]</td>\n",
       "      <td>Return=OK</td>\n",
       "      <td>1000.00000</td>\n",
       "      <td>5000.000000</td>\n",
       "      <td>10000.000000</td>\n",
       "      <td>20000.000000</td>\n",
       "      <td>50000.00000</td>\n",
       "      <td>1000.00000</td>\n",
       "      <td>5000.000000</td>\n",
       "      <td>10000.000000</td>\n",
       "      <td>20000.000000</td>\n",
       "      <td>50000.00000</td>\n",
       "    </tr>\n",
       "  </tbody>\n",
       "</table>\n",
       "</div>"
      ],
      "text/plain": [
       "                               MongoDB                       units  \\\n",
       "0                            [OVERALL]                 RunTime(ms)   \n",
       "1                            [OVERALL]         Throughput(ops/sec)   \n",
       "2                     [TOTAL_GCS_Copy]                       Count   \n",
       "3                 [TOTAL_GC_TIME_Copy]                    Time(ms)   \n",
       "4               [TOTAL_GC_TIME_%_Copy]                     Time(%)   \n",
       "5         [TOTAL_GCS_MarkSweepCompact]                       Count   \n",
       "6     [TOTAL_GC_TIME_MarkSweepCompact]                    Time(ms)   \n",
       "7   [TOTAL_GC_TIME_%_MarkSweepCompact]                     Time(%)   \n",
       "8                          [TOTAL_GCs]                       Count   \n",
       "9                      [TOTAL_GC_TIME]                    Time(ms)   \n",
       "10                   [TOTAL_GC_TIME_%]                     Time(%)   \n",
       "11                           [CLEANUP]                  Operations   \n",
       "12                           [CLEANUP]          AverageLatency(us)   \n",
       "13                           [CLEANUP]              MinLatency(us)   \n",
       "14                           [CLEANUP]              MaxLatency(us)   \n",
       "15                           [CLEANUP]   95thPercentileLatency(us)   \n",
       "16                           [CLEANUP]   99thPercentileLatency(us)   \n",
       "17                            [INSERT]                  Operations   \n",
       "18                            [INSERT]          AverageLatency(us)   \n",
       "19                            [INSERT]              MinLatency(us)   \n",
       "20                            [INSERT]              MaxLatency(us)   \n",
       "21                            [INSERT]   95thPercentileLatency(us)   \n",
       "22                            [INSERT]   99thPercentileLatency(us)   \n",
       "23                            [INSERT]                   Return=OK   \n",
       "\n",
       "           wa-1k          wa-5k         wa-10k         wa-20k        wa-50k  \\\n",
       "0     1121.00000    3864.000000    2010.000000    2470.000000    4571.00000   \n",
       "1      892.06066    1293.995859    4975.124378    8097.165992   10938.52549   \n",
       "2        0.00000       1.000000       3.000000       5.000000      12.00000   \n",
       "3        0.00000      21.000000      15.000000      15.000000      17.00000   \n",
       "4        0.00000       0.543478       0.746269       0.607287       0.37191   \n",
       "5        0.00000       0.000000       0.000000       0.000000       0.00000   \n",
       "6        0.00000       0.000000       0.000000       0.000000       0.00000   \n",
       "7        0.00000       0.000000       0.000000       0.000000       0.00000   \n",
       "8        0.00000       1.000000       3.000000       5.000000      12.00000   \n",
       "9        0.00000      21.000000      15.000000      15.000000      17.00000   \n",
       "10       0.00000       0.543478       0.746269       0.607287       0.37191   \n",
       "11       1.00000       1.000000       1.000000       1.000000       1.00000   \n",
       "12    1699.00000    9012.000000    3985.000000    1478.000000    3131.00000   \n",
       "13    1699.00000    9008.000000    3984.000000    1478.000000    3130.00000   \n",
       "14    1699.00000    9015.000000    3985.000000    1478.000000    3131.00000   \n",
       "15    1699.00000    9015.000000    3985.000000    1478.000000    3131.00000   \n",
       "16    1699.00000    9015.000000    3985.000000    1478.000000    3131.00000   \n",
       "17    1000.00000    5000.000000   10000.000000   20000.000000   50000.00000   \n",
       "18     514.00100     484.289400     134.992200      89.623600      74.17878   \n",
       "19      62.00000      39.000000      29.000000      28.000000      23.00000   \n",
       "20  108287.00000  184063.000000  140543.000000  127231.000000  111487.00000   \n",
       "21    1886.00000    2783.000000     244.000000     115.000000      95.00000   \n",
       "22    4571.00000    6811.000000    2347.000000    1400.000000    1061.00000   \n",
       "23    1000.00000    5000.000000   10000.000000   20000.000000   50000.00000   \n",
       "\n",
       "          wb-1k          wb-5k         wb-10k         wb-20k       wb-50k  \n",
       "0    1076.00000    3727.000000    1891.000000    2597.000000   4458.00000  \n",
       "1     929.36803    1341.561578    5288.207298    7701.193685  11215.79183  \n",
       "2       0.00000       1.000000       3.000000       5.000000     12.00000  \n",
       "3       0.00000      16.000000      14.000000      19.000000     19.00000  \n",
       "4       0.00000       0.429300       0.740349       0.731613      0.42620  \n",
       "5       0.00000       0.000000       0.000000       0.000000      0.00000  \n",
       "6       0.00000       0.000000       0.000000       0.000000      0.00000  \n",
       "7       0.00000       0.000000       0.000000       0.000000      0.00000  \n",
       "8       0.00000       1.000000       3.000000       5.000000     12.00000  \n",
       "9       0.00000      16.000000      14.000000      19.000000     19.00000  \n",
       "10      0.00000       0.429300       0.740349       0.731613      0.42620  \n",
       "11      1.00000       1.000000       1.000000       1.000000      1.00000  \n",
       "12   1735.00000    1815.000000    1867.000000    1536.000000   1231.00000  \n",
       "13   1735.00000    1815.000000    1867.000000    1536.000000   1231.00000  \n",
       "14   1735.00000    1815.000000    1867.000000    1536.000000   1231.00000  \n",
       "15   1735.00000    1815.000000    1867.000000    1536.000000   1231.00000  \n",
       "16   1735.00000    1815.000000    1867.000000    1536.000000   1231.00000  \n",
       "17   1000.00000    5000.000000   10000.000000   20000.000000  50000.00000  \n",
       "18    526.42700     430.802000     122.470400      93.916650     74.91272  \n",
       "19     63.00000      41.000000      28.000000      29.000000     22.00000  \n",
       "20  79935.00000  190847.000000  142719.000000  124351.000000  91007.00000  \n",
       "21   1956.00000    2401.000000     178.000000     126.000000     98.00000  \n",
       "22   5243.00000    6251.000000    2131.000000    1652.000000   1037.00000  \n",
       "23   1000.00000    5000.000000   10000.000000   20000.000000  50000.00000  "
      ]
     },
     "execution_count": 35,
     "metadata": {},
     "output_type": "execute_result"
    }
   ],
   "source": [
    "mongoDf = pd.read_csv('YCSB.csv',skiprows=1,nrows=24)\n",
    "mongoDf"
   ]
  },
  {
   "cell_type": "code",
   "execution_count": 36,
   "id": "8943d6b6",
   "metadata": {},
   "outputs": [
    {
     "data": {
      "text/html": [
       "<div>\n",
       "<style scoped>\n",
       "    .dataframe tbody tr th:only-of-type {\n",
       "        vertical-align: middle;\n",
       "    }\n",
       "\n",
       "    .dataframe tbody tr th {\n",
       "        vertical-align: top;\n",
       "    }\n",
       "\n",
       "    .dataframe thead th {\n",
       "        text-align: right;\n",
       "    }\n",
       "</style>\n",
       "<table border=\"1\" class=\"dataframe\">\n",
       "  <thead>\n",
       "    <tr style=\"text-align: right;\">\n",
       "      <th></th>\n",
       "      <th>MySQL</th>\n",
       "      <th>units</th>\n",
       "      <th>wa-1k</th>\n",
       "      <th>wa-5k</th>\n",
       "      <th>wa-10k</th>\n",
       "      <th>wa-20k</th>\n",
       "      <th>wa-50k</th>\n",
       "      <th>wb-1k</th>\n",
       "      <th>wb-5k</th>\n",
       "      <th>wb-10k</th>\n",
       "      <th>wb-20k</th>\n",
       "      <th>wb-50k</th>\n",
       "    </tr>\n",
       "  </thead>\n",
       "  <tbody>\n",
       "    <tr>\n",
       "      <th>0</th>\n",
       "      <td>[OVERALL]</td>\n",
       "      <td>RunTime(ms)</td>\n",
       "      <td>11813.000000</td>\n",
       "      <td>16632.000000</td>\n",
       "      <td>57097.000000</td>\n",
       "      <td>159441.000000</td>\n",
       "      <td>498259.000000</td>\n",
       "      <td>11680.000000</td>\n",
       "      <td>60631.000000</td>\n",
       "      <td>66582.000000</td>\n",
       "      <td>174607.000000</td>\n",
       "      <td>517619.000000</td>\n",
       "    </tr>\n",
       "    <tr>\n",
       "      <th>1</th>\n",
       "      <td>[OVERALL]</td>\n",
       "      <td>Throughput(ops/sec)</td>\n",
       "      <td>84.652501</td>\n",
       "      <td>300.625301</td>\n",
       "      <td>175.140550</td>\n",
       "      <td>125.438250</td>\n",
       "      <td>100.349417</td>\n",
       "      <td>85.616438</td>\n",
       "      <td>82.466065</td>\n",
       "      <td>150.190742</td>\n",
       "      <td>114.542945</td>\n",
       "      <td>96.596145</td>\n",
       "    </tr>\n",
       "    <tr>\n",
       "      <th>2</th>\n",
       "      <td>[TOTAL_GCS_Copy]</td>\n",
       "      <td>Count</td>\n",
       "      <td>0.000000</td>\n",
       "      <td>1.000000</td>\n",
       "      <td>3.000000</td>\n",
       "      <td>6.000000</td>\n",
       "      <td>15.000000</td>\n",
       "      <td>0.000000</td>\n",
       "      <td>1.000000</td>\n",
       "      <td>3.000000</td>\n",
       "      <td>6.000000</td>\n",
       "      <td>15.000000</td>\n",
       "    </tr>\n",
       "    <tr>\n",
       "      <th>3</th>\n",
       "      <td>[TOTAL_GC_TIME_Copy]</td>\n",
       "      <td>Time(ms)</td>\n",
       "      <td>0.000000</td>\n",
       "      <td>8.000000</td>\n",
       "      <td>11.000000</td>\n",
       "      <td>12.000000</td>\n",
       "      <td>14.000000</td>\n",
       "      <td>0.000000</td>\n",
       "      <td>14.000000</td>\n",
       "      <td>12.000000</td>\n",
       "      <td>12.000000</td>\n",
       "      <td>19.000000</td>\n",
       "    </tr>\n",
       "    <tr>\n",
       "      <th>4</th>\n",
       "      <td>[TOTAL_GC_TIME_%_Copy]</td>\n",
       "      <td>Time(%)</td>\n",
       "      <td>0.000000</td>\n",
       "      <td>0.048100</td>\n",
       "      <td>0.019265</td>\n",
       "      <td>0.007526</td>\n",
       "      <td>0.002810</td>\n",
       "      <td>0.000000</td>\n",
       "      <td>0.023090</td>\n",
       "      <td>0.018023</td>\n",
       "      <td>0.006873</td>\n",
       "      <td>0.003671</td>\n",
       "    </tr>\n",
       "    <tr>\n",
       "      <th>5</th>\n",
       "      <td>[TOTAL_GCS_MarkSweepCompact]</td>\n",
       "      <td>Count</td>\n",
       "      <td>0.000000</td>\n",
       "      <td>0.000000</td>\n",
       "      <td>0.000000</td>\n",
       "      <td>0.000000</td>\n",
       "      <td>0.000000</td>\n",
       "      <td>0.000000</td>\n",
       "      <td>0.000000</td>\n",
       "      <td>0.000000</td>\n",
       "      <td>0.000000</td>\n",
       "      <td>0.000000</td>\n",
       "    </tr>\n",
       "    <tr>\n",
       "      <th>6</th>\n",
       "      <td>[TOTAL_GC_TIME_MarkSweepCompact]</td>\n",
       "      <td>Time(ms)</td>\n",
       "      <td>0.000000</td>\n",
       "      <td>0.000000</td>\n",
       "      <td>0.000000</td>\n",
       "      <td>0.000000</td>\n",
       "      <td>0.000000</td>\n",
       "      <td>0.000000</td>\n",
       "      <td>0.000000</td>\n",
       "      <td>0.000000</td>\n",
       "      <td>0.000000</td>\n",
       "      <td>0.000000</td>\n",
       "    </tr>\n",
       "    <tr>\n",
       "      <th>7</th>\n",
       "      <td>[TOTAL_GC_TIME_%_MarkSweepCompact]</td>\n",
       "      <td>Time(%)</td>\n",
       "      <td>0.000000</td>\n",
       "      <td>0.000000</td>\n",
       "      <td>0.000000</td>\n",
       "      <td>0.000000</td>\n",
       "      <td>0.000000</td>\n",
       "      <td>0.000000</td>\n",
       "      <td>0.000000</td>\n",
       "      <td>0.000000</td>\n",
       "      <td>0.000000</td>\n",
       "      <td>0.000000</td>\n",
       "    </tr>\n",
       "    <tr>\n",
       "      <th>8</th>\n",
       "      <td>[TOTAL_GCs]</td>\n",
       "      <td>Count</td>\n",
       "      <td>0.000000</td>\n",
       "      <td>1.000000</td>\n",
       "      <td>3.000000</td>\n",
       "      <td>6.000000</td>\n",
       "      <td>15.000000</td>\n",
       "      <td>0.000000</td>\n",
       "      <td>1.000000</td>\n",
       "      <td>3.000000</td>\n",
       "      <td>6.000000</td>\n",
       "      <td>15.000000</td>\n",
       "    </tr>\n",
       "    <tr>\n",
       "      <th>9</th>\n",
       "      <td>[TOTAL_GC_TIME]</td>\n",
       "      <td>Time(ms)</td>\n",
       "      <td>0.000000</td>\n",
       "      <td>8.000000</td>\n",
       "      <td>11.000000</td>\n",
       "      <td>12.000000</td>\n",
       "      <td>14.000000</td>\n",
       "      <td>0.000000</td>\n",
       "      <td>14.000000</td>\n",
       "      <td>12.000000</td>\n",
       "      <td>12.000000</td>\n",
       "      <td>19.000000</td>\n",
       "    </tr>\n",
       "    <tr>\n",
       "      <th>10</th>\n",
       "      <td>[TOTAL_GC_TIME_%]</td>\n",
       "      <td>Time(%)</td>\n",
       "      <td>0.000000</td>\n",
       "      <td>0.048100</td>\n",
       "      <td>0.019265</td>\n",
       "      <td>0.007526</td>\n",
       "      <td>0.002810</td>\n",
       "      <td>0.000000</td>\n",
       "      <td>0.023090</td>\n",
       "      <td>0.018023</td>\n",
       "      <td>0.006873</td>\n",
       "      <td>0.003671</td>\n",
       "    </tr>\n",
       "    <tr>\n",
       "      <th>11</th>\n",
       "      <td>[CLEANUP]</td>\n",
       "      <td>Operations</td>\n",
       "      <td>1.000000</td>\n",
       "      <td>1.000000</td>\n",
       "      <td>1.000000</td>\n",
       "      <td>1.000000</td>\n",
       "      <td>1.000000</td>\n",
       "      <td>1.000000</td>\n",
       "      <td>1.000000</td>\n",
       "      <td>1.000000</td>\n",
       "      <td>1.000000</td>\n",
       "      <td>1.000000</td>\n",
       "    </tr>\n",
       "    <tr>\n",
       "      <th>12</th>\n",
       "      <td>[CLEANUP]</td>\n",
       "      <td>AverageLatency(us)</td>\n",
       "      <td>886.000000</td>\n",
       "      <td>713.000000</td>\n",
       "      <td>752.000000</td>\n",
       "      <td>716.000000</td>\n",
       "      <td>753.000000</td>\n",
       "      <td>817.000000</td>\n",
       "      <td>862.000000</td>\n",
       "      <td>1367.000000</td>\n",
       "      <td>694.000000</td>\n",
       "      <td>738.000000</td>\n",
       "    </tr>\n",
       "    <tr>\n",
       "      <th>13</th>\n",
       "      <td>[CLEANUP]</td>\n",
       "      <td>MinLatency(us)</td>\n",
       "      <td>886.000000</td>\n",
       "      <td>713.000000</td>\n",
       "      <td>752.000000</td>\n",
       "      <td>716.000000</td>\n",
       "      <td>753.000000</td>\n",
       "      <td>817.000000</td>\n",
       "      <td>862.000000</td>\n",
       "      <td>1367.000000</td>\n",
       "      <td>694.000000</td>\n",
       "      <td>738.000000</td>\n",
       "    </tr>\n",
       "    <tr>\n",
       "      <th>14</th>\n",
       "      <td>[CLEANUP]</td>\n",
       "      <td>MaxLatency(us)</td>\n",
       "      <td>886.000000</td>\n",
       "      <td>713.000000</td>\n",
       "      <td>752.000000</td>\n",
       "      <td>716.000000</td>\n",
       "      <td>753.000000</td>\n",
       "      <td>817.000000</td>\n",
       "      <td>862.000000</td>\n",
       "      <td>1367.000000</td>\n",
       "      <td>694.000000</td>\n",
       "      <td>738.000000</td>\n",
       "    </tr>\n",
       "    <tr>\n",
       "      <th>15</th>\n",
       "      <td>[CLEANUP]</td>\n",
       "      <td>95thPercentileLatency(us)</td>\n",
       "      <td>886.000000</td>\n",
       "      <td>713.000000</td>\n",
       "      <td>752.000000</td>\n",
       "      <td>716.000000</td>\n",
       "      <td>753.000000</td>\n",
       "      <td>817.000000</td>\n",
       "      <td>862.000000</td>\n",
       "      <td>1367.000000</td>\n",
       "      <td>694.000000</td>\n",
       "      <td>738.000000</td>\n",
       "    </tr>\n",
       "    <tr>\n",
       "      <th>16</th>\n",
       "      <td>[CLEANUP]</td>\n",
       "      <td>99thPercentileLatency(us)</td>\n",
       "      <td>886.000000</td>\n",
       "      <td>713.000000</td>\n",
       "      <td>752.000000</td>\n",
       "      <td>716.000000</td>\n",
       "      <td>753.000000</td>\n",
       "      <td>817.000000</td>\n",
       "      <td>862.000000</td>\n",
       "      <td>1367.000000</td>\n",
       "      <td>694.000000</td>\n",
       "      <td>738.000000</td>\n",
       "    </tr>\n",
       "    <tr>\n",
       "      <th>17</th>\n",
       "      <td>[INSERT]</td>\n",
       "      <td>Operations</td>\n",
       "      <td>1000.000000</td>\n",
       "      <td>5000.000000</td>\n",
       "      <td>10000.000000</td>\n",
       "      <td>20000.000000</td>\n",
       "      <td>50000.000000</td>\n",
       "      <td>1000.000000</td>\n",
       "      <td>5000.000000</td>\n",
       "      <td>10000.000000</td>\n",
       "      <td>20000.000000</td>\n",
       "      <td>50000.000000</td>\n",
       "    </tr>\n",
       "    <tr>\n",
       "      <th>18</th>\n",
       "      <td>[INSERT]</td>\n",
       "      <td>AverageLatency(us)</td>\n",
       "      <td>10319.836000</td>\n",
       "      <td>3208.347400</td>\n",
       "      <td>5636.758600</td>\n",
       "      <td>7932.920450</td>\n",
       "      <td>9943.489460</td>\n",
       "      <td>10192.826000</td>\n",
       "      <td>11845.073400</td>\n",
       "      <td>6583.927900</td>\n",
       "      <td>8690.827350</td>\n",
       "      <td>10332.544760</td>\n",
       "    </tr>\n",
       "    <tr>\n",
       "      <th>19</th>\n",
       "      <td>[INSERT]</td>\n",
       "      <td>MinLatency(us)</td>\n",
       "      <td>2794.000000</td>\n",
       "      <td>1251.000000</td>\n",
       "      <td>1180.000000</td>\n",
       "      <td>1179.000000</td>\n",
       "      <td>1209.000000</td>\n",
       "      <td>2162.000000</td>\n",
       "      <td>1944.000000</td>\n",
       "      <td>1200.000000</td>\n",
       "      <td>1210.000000</td>\n",
       "      <td>1186.000000</td>\n",
       "    </tr>\n",
       "    <tr>\n",
       "      <th>20</th>\n",
       "      <td>[INSERT]</td>\n",
       "      <td>MaxLatency(us)</td>\n",
       "      <td>109375.000000</td>\n",
       "      <td>63743.000000</td>\n",
       "      <td>59839.000000</td>\n",
       "      <td>55551.000000</td>\n",
       "      <td>258047.000000</td>\n",
       "      <td>104767.000000</td>\n",
       "      <td>79359.000000</td>\n",
       "      <td>84479.000000</td>\n",
       "      <td>252799.000000</td>\n",
       "      <td>250495.000000</td>\n",
       "    </tr>\n",
       "    <tr>\n",
       "      <th>21</th>\n",
       "      <td>[INSERT]</td>\n",
       "      <td>95thPercentileLatency(us)</td>\n",
       "      <td>20991.000000</td>\n",
       "      <td>9159.000000</td>\n",
       "      <td>13279.000000</td>\n",
       "      <td>15607.000000</td>\n",
       "      <td>17839.000000</td>\n",
       "      <td>20383.000000</td>\n",
       "      <td>25071.000000</td>\n",
       "      <td>15335.000000</td>\n",
       "      <td>17343.000000</td>\n",
       "      <td>18639.000000</td>\n",
       "    </tr>\n",
       "    <tr>\n",
       "      <th>22</th>\n",
       "      <td>[INSERT]</td>\n",
       "      <td>99thPercentileLatency(us)</td>\n",
       "      <td>31823.000000</td>\n",
       "      <td>18543.000000</td>\n",
       "      <td>19471.000000</td>\n",
       "      <td>21487.000000</td>\n",
       "      <td>25535.000000</td>\n",
       "      <td>35295.000000</td>\n",
       "      <td>35135.000000</td>\n",
       "      <td>22607.000000</td>\n",
       "      <td>27023.000000</td>\n",
       "      <td>28175.000000</td>\n",
       "    </tr>\n",
       "    <tr>\n",
       "      <th>23</th>\n",
       "      <td>[INSERT]</td>\n",
       "      <td>Return=OK</td>\n",
       "      <td>1000.000000</td>\n",
       "      <td>5000.000000</td>\n",
       "      <td>10000.000000</td>\n",
       "      <td>20000.000000</td>\n",
       "      <td>50000.000000</td>\n",
       "      <td>1000.000000</td>\n",
       "      <td>5000.000000</td>\n",
       "      <td>10000.000000</td>\n",
       "      <td>20000.000000</td>\n",
       "      <td>50000.000000</td>\n",
       "    </tr>\n",
       "  </tbody>\n",
       "</table>\n",
       "</div>"
      ],
      "text/plain": [
       "                                 MySQL                       units  \\\n",
       "0                            [OVERALL]                 RunTime(ms)   \n",
       "1                            [OVERALL]         Throughput(ops/sec)   \n",
       "2                     [TOTAL_GCS_Copy]                       Count   \n",
       "3                 [TOTAL_GC_TIME_Copy]                    Time(ms)   \n",
       "4               [TOTAL_GC_TIME_%_Copy]                     Time(%)   \n",
       "5         [TOTAL_GCS_MarkSweepCompact]                       Count   \n",
       "6     [TOTAL_GC_TIME_MarkSweepCompact]                    Time(ms)   \n",
       "7   [TOTAL_GC_TIME_%_MarkSweepCompact]                     Time(%)   \n",
       "8                          [TOTAL_GCs]                       Count   \n",
       "9                      [TOTAL_GC_TIME]                    Time(ms)   \n",
       "10                   [TOTAL_GC_TIME_%]                     Time(%)   \n",
       "11                           [CLEANUP]                  Operations   \n",
       "12                           [CLEANUP]          AverageLatency(us)   \n",
       "13                           [CLEANUP]              MinLatency(us)   \n",
       "14                           [CLEANUP]              MaxLatency(us)   \n",
       "15                           [CLEANUP]   95thPercentileLatency(us)   \n",
       "16                           [CLEANUP]   99thPercentileLatency(us)   \n",
       "17                            [INSERT]                  Operations   \n",
       "18                            [INSERT]          AverageLatency(us)   \n",
       "19                            [INSERT]              MinLatency(us)   \n",
       "20                            [INSERT]              MaxLatency(us)   \n",
       "21                            [INSERT]   95thPercentileLatency(us)   \n",
       "22                            [INSERT]   99thPercentileLatency(us)   \n",
       "23                            [INSERT]                   Return=OK   \n",
       "\n",
       "            wa-1k         wa-5k        wa-10k         wa-20k         wa-50k  \\\n",
       "0    11813.000000  16632.000000  57097.000000  159441.000000  498259.000000   \n",
       "1       84.652501    300.625301    175.140550     125.438250     100.349417   \n",
       "2        0.000000      1.000000      3.000000       6.000000      15.000000   \n",
       "3        0.000000      8.000000     11.000000      12.000000      14.000000   \n",
       "4        0.000000      0.048100      0.019265       0.007526       0.002810   \n",
       "5        0.000000      0.000000      0.000000       0.000000       0.000000   \n",
       "6        0.000000      0.000000      0.000000       0.000000       0.000000   \n",
       "7        0.000000      0.000000      0.000000       0.000000       0.000000   \n",
       "8        0.000000      1.000000      3.000000       6.000000      15.000000   \n",
       "9        0.000000      8.000000     11.000000      12.000000      14.000000   \n",
       "10       0.000000      0.048100      0.019265       0.007526       0.002810   \n",
       "11       1.000000      1.000000      1.000000       1.000000       1.000000   \n",
       "12     886.000000    713.000000    752.000000     716.000000     753.000000   \n",
       "13     886.000000    713.000000    752.000000     716.000000     753.000000   \n",
       "14     886.000000    713.000000    752.000000     716.000000     753.000000   \n",
       "15     886.000000    713.000000    752.000000     716.000000     753.000000   \n",
       "16     886.000000    713.000000    752.000000     716.000000     753.000000   \n",
       "17    1000.000000   5000.000000  10000.000000   20000.000000   50000.000000   \n",
       "18   10319.836000   3208.347400   5636.758600    7932.920450    9943.489460   \n",
       "19    2794.000000   1251.000000   1180.000000    1179.000000    1209.000000   \n",
       "20  109375.000000  63743.000000  59839.000000   55551.000000  258047.000000   \n",
       "21   20991.000000   9159.000000  13279.000000   15607.000000   17839.000000   \n",
       "22   31823.000000  18543.000000  19471.000000   21487.000000   25535.000000   \n",
       "23    1000.000000   5000.000000  10000.000000   20000.000000   50000.000000   \n",
       "\n",
       "            wb-1k         wb-5k        wb-10k         wb-20k         wb-50k  \n",
       "0    11680.000000  60631.000000  66582.000000  174607.000000  517619.000000  \n",
       "1       85.616438     82.466065    150.190742     114.542945      96.596145  \n",
       "2        0.000000      1.000000      3.000000       6.000000      15.000000  \n",
       "3        0.000000     14.000000     12.000000      12.000000      19.000000  \n",
       "4        0.000000      0.023090      0.018023       0.006873       0.003671  \n",
       "5        0.000000      0.000000      0.000000       0.000000       0.000000  \n",
       "6        0.000000      0.000000      0.000000       0.000000       0.000000  \n",
       "7        0.000000      0.000000      0.000000       0.000000       0.000000  \n",
       "8        0.000000      1.000000      3.000000       6.000000      15.000000  \n",
       "9        0.000000     14.000000     12.000000      12.000000      19.000000  \n",
       "10       0.000000      0.023090      0.018023       0.006873       0.003671  \n",
       "11       1.000000      1.000000      1.000000       1.000000       1.000000  \n",
       "12     817.000000    862.000000   1367.000000     694.000000     738.000000  \n",
       "13     817.000000    862.000000   1367.000000     694.000000     738.000000  \n",
       "14     817.000000    862.000000   1367.000000     694.000000     738.000000  \n",
       "15     817.000000    862.000000   1367.000000     694.000000     738.000000  \n",
       "16     817.000000    862.000000   1367.000000     694.000000     738.000000  \n",
       "17    1000.000000   5000.000000  10000.000000   20000.000000   50000.000000  \n",
       "18   10192.826000  11845.073400   6583.927900    8690.827350   10332.544760  \n",
       "19    2162.000000   1944.000000   1200.000000    1210.000000    1186.000000  \n",
       "20  104767.000000  79359.000000  84479.000000  252799.000000  250495.000000  \n",
       "21   20383.000000  25071.000000  15335.000000   17343.000000   18639.000000  \n",
       "22   35295.000000  35135.000000  22607.000000   27023.000000   28175.000000  \n",
       "23    1000.000000   5000.000000  10000.000000   20000.000000   50000.000000  "
      ]
     },
     "execution_count": 36,
     "metadata": {},
     "output_type": "execute_result"
    }
   ],
   "source": [
    "mysqlDf = pd.read_csv('YCSB.csv',skiprows=27)\n",
    "mysqlDf"
   ]
  },
  {
   "cell_type": "code",
   "execution_count": 37,
   "id": "69b05f0c",
   "metadata": {},
   "outputs": [
    {
     "name": "stdout",
     "output_type": "stream",
     "text": [
      "<class 'pandas.core.frame.DataFrame'>\n",
      "RangeIndex: 24 entries, 0 to 23\n",
      "Data columns (total 12 columns):\n",
      " #   Column  Non-Null Count  Dtype  \n",
      "---  ------  --------------  -----  \n",
      " 0   MySQL   24 non-null     object \n",
      " 1   units   24 non-null     object \n",
      " 2   wa-1k   24 non-null     float64\n",
      " 3   wa-5k   24 non-null     float64\n",
      " 4   wa-10k  24 non-null     float64\n",
      " 5   wa-20k  24 non-null     float64\n",
      " 6   wa-50k  24 non-null     float64\n",
      " 7   wb-1k   24 non-null     float64\n",
      " 8   wb-5k   24 non-null     float64\n",
      " 9   wb-10k  24 non-null     float64\n",
      " 10  wb-20k  24 non-null     float64\n",
      " 11  wb-50k  24 non-null     float64\n",
      "dtypes: float64(10), object(2)\n",
      "memory usage: 2.4+ KB\n"
     ]
    }
   ],
   "source": [
    "mysqlDf.info()"
   ]
  },
  {
   "cell_type": "code",
   "execution_count": 93,
   "id": "34ad0d44",
   "metadata": {
    "scrolled": false
   },
   "outputs": [],
   "source": [
    "# selecting slices of data\n",
    "mysql_data1 = mysqlDf.iloc[:1, 2:7]\n",
    "mysql_data2 = mysqlDf.iloc[:1, 7:]\n",
    "\n",
    "mongo_data1 = mongoDf.iloc[:1, 2:7]\n",
    "mongo_data2 = mongoDf.iloc[:1, 7:]"
   ]
  },
  {
   "cell_type": "code",
   "execution_count": 94,
   "id": "262bd1d8",
   "metadata": {},
   "outputs": [
    {
     "data": {
      "image/png": "[encoded data removed]",
      "text/plain": [
       "<Figure size 1000x600 with 1 Axes>"
      ]
     },
     "metadata": {},
     "output_type": "display_data"
    }
   ],
   "source": [
    "# creating a single figure with a subplot\n",
    "fig, ax = plt.subplots(figsize=(10, 6))\n",
    "\n",
    "\n",
    "# plotting each of the lines, a different marker per DB\n",
    "mysql_data1.T.plot(ax=ax, marker='o', linestyle='-', markersize=6)\n",
    "mysql_data2.T.plot(ax=ax, marker='o', linestyle='--', markersize=6)\n",
    "mongo_data1.T.plot(ax=ax, marker='s', linestyle='-', markersize=6)\n",
    "mongo_data2.T.plot(ax=ax, marker='s', linestyle='--', markersize=6)\n",
    "\n",
    "# tunning axis\n",
    "ax.set_title('Fig. 5 - Analysis of Runtime with YCSB under workloada & workloadb')\n",
    "ax.set_xlabel('Record count')\n",
    "ax.set_ylabel('ms') \n",
    "\n",
    "ax.set_xticks([0, 1, 2, 3, 4])\n",
    "ax.set_xticklabels([\"1k\", \"5k\", \"10k\", \"20k\", \"50k\"])\n",
    "\n",
    "\n",
    "# legend\n",
    "ax.legend([\"MySQL-a\", \"MySQL-b\",\"MongoDB-a\", \"MongoDB-b\"])\n",
    "\n",
    "plt.tight_layout() # adjust layout\n",
    "plt.xticks(rotation=45)\n",
    "plt.show()"
   ]
  },
  {
   "cell_type": "code",
   "execution_count": 90,
   "id": "3d0fd31d",
   "metadata": {
    "scrolled": false
   },
   "outputs": [
    {
     "data": {
      "image/png": "[encoded data removed]",
      "text/plain": [
       "<Figure size 1000x600 with 1 Axes>"
      ]
     },
     "metadata": {},
     "output_type": "display_data"
    }
   ],
   "source": [
    "# selecting slices of data\n",
    "mysql_data1 = mysqlDf.iloc[1:2, 2:7]\n",
    "mysql_data2 = mysqlDf.iloc[1:2, 7:]\n",
    "\n",
    "mongo_data1 = mongoDf.iloc[1:2, 2:7]\n",
    "mongo_data2 = mongoDf.iloc[1:2, 7:]\n",
    "\n",
    "# creating a single figure with a subplot\n",
    "fig, ax = plt.subplots(figsize=(10, 6))\n",
    "\n",
    "# plotting each of the lines, a different marker per DB\n",
    "mongo_data1.T.plot(ax=ax, marker='s', linestyle='-', markersize=6)\n",
    "mongo_data2.T.plot(ax=ax, marker='s', linestyle='--', markersize=6)\n",
    "mysql_data1.T.plot(ax=ax, marker='o', linestyle='-', markersize=6)\n",
    "mysql_data2.T.plot(ax=ax, marker='o', linestyle='--', markersize=6)\n",
    "\n",
    "ax.set_title('Fig. 6 - Analysis of throughput with YCSB under workloada & workloadb')\n",
    "ax.set_xlabel('Record count')\n",
    "ax.set_ylabel('ops/sec')\n",
    "\n",
    "#custom x-axis, labels and ticks\n",
    "xtick_labels = [\"1k\", \"5k\", \"10k\", \"20k\", \"50k\"]\n",
    "xtick_positions = [0, 1, 2, 3, 4]\n",
    "\n",
    "ax.set_xticks(xtick_positions)\n",
    "ax.set_xticklabels(xtick_labels)\n",
    "\n",
    "# legend\n",
    "ax.legend([\"MongoDB-a\", \"MongoDB-b\",\"MySQL-a\", \"MySQL-b\"])\n",
    "\n",
    "plt.tight_layout() #adjust layout\n",
    "plt.xticks()\n",
    "plt.show()"
   ]
  },
  {
   "cell_type": "code",
   "execution_count": 91,
   "id": "9dcde9b2",
   "metadata": {
    "scrolled": false
   },
   "outputs": [
    {
     "data": {
      "image/png": "[encoded data removed]",
      "text/plain": [
       "<Figure size 1000x600 with 1 Axes>"
      ]
     },
     "metadata": {},
     "output_type": "display_data"
    }
   ],
   "source": [
    "# selecting slices of data\n",
    "mysql_data1 = mysqlDf.iloc[12:13, 2:7]\n",
    "mysql_data2 = mysqlDf.iloc[12:13, 7:]\n",
    "\n",
    "mongo_data1 = mongoDf.iloc[12:13, 2:7]\n",
    "mongo_data2 = mongoDf.iloc[12:13, 7:]\n",
    "\n",
    "# creating a single figure with a subplot\n",
    "fig, ax = plt.subplots(figsize=(10, 6))\n",
    "\n",
    "# plotting each of the lines, a different marker per DB\n",
    "mongo_data1.T.plot(ax=ax, marker='s', linestyle='-', markersize=6)\n",
    "mongo_data2.T.plot(ax=ax, marker='s', linestyle='--', markersize=6)\n",
    "mysql_data1.T.plot(ax=ax, marker='o', linestyle='-', markersize=6)\n",
    "mysql_data2.T.plot(ax=ax, marker='o', linestyle='--', markersize=6)\n",
    "\n",
    "ax.set_title('Fig. 7 - Analysis of average cleanup latency with YCSB under workloada & workloadb')\n",
    "ax.set_xlabel('Record count')\n",
    "ax.set_ylabel('us')\n",
    "\n",
    "# Set custom x-axis, labels and ticks\n",
    "xtick_labels = [\"1k\", \"5k\", \"10k\", \"20k\", \"50k\"]\n",
    "xtick_positions = [0, 1, 2, 3, 4]\n",
    "\n",
    "ax.set_xticks(xtick_positions)\n",
    "ax.set_xticklabels(xtick_labels)\n",
    "\n",
    "# legend\n",
    "ax.legend([\"MongoDB-a\", \"MongoDB-b\",\"MySQL-a\", \"MySQL-b\"])\n",
    "\n",
    "plt.tight_layout() #adjust layout\n",
    "plt.xticks(rotation=45)\n",
    "plt.show()"
   ]
  },
  {
   "cell_type": "code",
   "execution_count": 95,
   "id": "c84df37c",
   "metadata": {
    "scrolled": false
   },
   "outputs": [
    {
     "data": {
      "image/png": "[encoded data removed]",
      "text/plain": [
       "<Figure size 1000x600 with 1 Axes>"
      ]
     },
     "metadata": {},
     "output_type": "display_data"
    }
   ],
   "source": [
    "# selecting slices of data\n",
    "mysql_data1 = mysqlDf.iloc[18:19, 2:7]\n",
    "mysql_data2 = mysqlDf.iloc[18:19, 7:]\n",
    "\n",
    "mongo_data1 = mongoDf.iloc[18:19, 2:7]\n",
    "mongo_data2 = mongoDf.iloc[18:19, 7:]\n",
    "\n",
    "# creating a single figure with a subplot\n",
    "fig, ax = plt.subplots(figsize=(10, 6))\n",
    "\n",
    "# plotting each of the lines, a different marker per DB\n",
    "mysql_data1.T.plot(ax=ax, kind='line', marker='o', linestyle='-', markersize=6)\n",
    "mysql_data2.T.plot(ax=ax, kind='line', marker='o', linestyle='--', markersize=6)\n",
    "mongo_data1.T.plot(ax=ax, kind='line', marker='s', linestyle='-', markersize=6)\n",
    "mongo_data2.T.plot(ax=ax, kind='line', marker='s', linestyle='--', markersize=6)\n",
    "\n",
    "ax.set_title('Fig. 8 - Analysis of average insert latency with YCSB under workloada & workloadb')\n",
    "ax.set_xlabel('Record count')\n",
    "ax.set_ylabel('us')\n",
    "\n",
    "# Set custom x-axis, labels and ticks\n",
    "xtick_labels = [\"1k\", \"5k\", \"10k\", \"20k\", \"50k\"]\n",
    "xtick_positions = [0, 1, 2, 3, 4]\n",
    "\n",
    "ax.set_xticks(xtick_positions)\n",
    "ax.set_xticklabels(xtick_labels)\n",
    "\n",
    "# legend\n",
    "ax.legend([\"MySQL-a\", \"MySQL-b\",\"MongoDB-a\", \"MongoDB-b\"])\n",
    "\n",
    "plt.tight_layout() #adjust layout\n",
    "plt.xticks(rotation=45)\n",
    "plt.show()"
   ]
  },
  {
   "cell_type": "code",
   "execution_count": null,
   "id": "f56f0c36",
   "metadata": {},
   "outputs": [],
   "source": []
  }
 ],
 "metadata": {
  "kernelspec": {
   "display_name": "Python 3 (ipykernel)",
   "language": "python",
   "name": "python3"
  },
  "language_info": {
   "codemirror_mode": {
    "name": "ipython",
    "version": 3
   },
   "file_extension": ".py",
   "mimetype": "text/x-python",
   "name": "python",
   "nbconvert_exporter": "python",
   "pygments_lexer": "ipython3",
   "version": "3.9.13"
  }
 },
 "nbformat": 4,
 "nbformat_minor": 5
}
